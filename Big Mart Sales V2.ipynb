{
 "cells": [
  {
   "cell_type": "markdown",
   "metadata": {},
   "source": [
    "## Problem Statement\n",
    "\n",
    "The data scientists at BigMart have collected 2013 sales data for 1559 products across 10 stores in different cities. Also, certain attributes of each product and store have been defined. The aim is to build a predictive model and find out the sales of each product at a particular store.\n",
    "\n",
    "Using this model, BigMart will try to understand the properties of products and stores which play a key role in increasing sales.\n",
    "\n",
    "\n",
    "### Hypothesis Generation\n",
    "\n",
    "Make it a practice to do this before solving any ML problem. \n",
    "Ideally,before seeing the data or else, you might end up with biased hypotheses.\n",
    "\n",
    "What could affect the target variable (sales)?\n",
    "\n",
    "1. Time of week : Weekends usually are more busy\n",
    "2. Time of day  : Higher sales in the mornings and late evenings\n",
    "3. Time of year : Higher sales at end of the year \n",
    "4. Store size and location\n",
    "5. Items with more shelf space"
   ]
  },
  {
   "cell_type": "code",
   "execution_count": 6,
   "metadata": {},
   "outputs": [],
   "source": [
    "import numpy as np\n",
    "import pandas as pd\n",
    "from sklearn.preprocessing import LabelEncoder"
   ]
  },
  {
   "cell_type": "code",
   "execution_count": 7,
   "metadata": {},
   "outputs": [],
   "source": [
    "# For implementing Linear Regression\n",
    "from sklearn.linear_model import LinearRegression\n",
    "\n",
    "# Evaluation (to test the reliability of regression model)\n",
    "from sklearn.metrics import r2_score, mean_squared_error\n",
    "from math import sqrt"
   ]
  },
  {
   "cell_type": "code",
   "execution_count": 8,
   "metadata": {},
   "outputs": [],
   "source": [
    "train = pd.read_csv('bigmart_train.csv')"
   ]
  },
  {
   "cell_type": "code",
   "execution_count": 9,
   "metadata": {},
   "outputs": [
    {
     "data": {
      "text/html": [
       "<div>\n",
       "<style scoped>\n",
       "    .dataframe tbody tr th:only-of-type {\n",
       "        vertical-align: middle;\n",
       "    }\n",
       "\n",
       "    .dataframe tbody tr th {\n",
       "        vertical-align: top;\n",
       "    }\n",
       "\n",
       "    .dataframe thead th {\n",
       "        text-align: right;\n",
       "    }\n",
       "</style>\n",
       "<table border=\"1\" class=\"dataframe\">\n",
       "  <thead>\n",
       "    <tr style=\"text-align: right;\">\n",
       "      <th></th>\n",
       "      <th>Item_Identifier</th>\n",
       "      <th>Item_Weight</th>\n",
       "      <th>Item_Fat_Content</th>\n",
       "      <th>Item_Visibility</th>\n",
       "      <th>Item_Type</th>\n",
       "      <th>Item_MRP</th>\n",
       "      <th>Outlet_Identifier</th>\n",
       "      <th>Outlet_Establishment_Year</th>\n",
       "      <th>Outlet_Size</th>\n",
       "      <th>Outlet_Location_Type</th>\n",
       "      <th>Outlet_Type</th>\n",
       "      <th>Item_Outlet_Sales</th>\n",
       "    </tr>\n",
       "  </thead>\n",
       "  <tbody>\n",
       "    <tr>\n",
       "      <th>0</th>\n",
       "      <td>FDA15</td>\n",
       "      <td>9.300</td>\n",
       "      <td>Low Fat</td>\n",
       "      <td>0.016047</td>\n",
       "      <td>Dairy</td>\n",
       "      <td>249.8092</td>\n",
       "      <td>OUT049</td>\n",
       "      <td>1999</td>\n",
       "      <td>Medium</td>\n",
       "      <td>Tier 1</td>\n",
       "      <td>Supermarket Type1</td>\n",
       "      <td>3735.1380</td>\n",
       "    </tr>\n",
       "    <tr>\n",
       "      <th>1</th>\n",
       "      <td>DRC01</td>\n",
       "      <td>5.920</td>\n",
       "      <td>Regular</td>\n",
       "      <td>0.019278</td>\n",
       "      <td>Soft Drinks</td>\n",
       "      <td>48.2692</td>\n",
       "      <td>OUT018</td>\n",
       "      <td>2009</td>\n",
       "      <td>Medium</td>\n",
       "      <td>Tier 3</td>\n",
       "      <td>Supermarket Type2</td>\n",
       "      <td>443.4228</td>\n",
       "    </tr>\n",
       "    <tr>\n",
       "      <th>2</th>\n",
       "      <td>FDN15</td>\n",
       "      <td>17.500</td>\n",
       "      <td>Low Fat</td>\n",
       "      <td>0.016760</td>\n",
       "      <td>Meat</td>\n",
       "      <td>141.6180</td>\n",
       "      <td>OUT049</td>\n",
       "      <td>1999</td>\n",
       "      <td>Medium</td>\n",
       "      <td>Tier 1</td>\n",
       "      <td>Supermarket Type1</td>\n",
       "      <td>2097.2700</td>\n",
       "    </tr>\n",
       "    <tr>\n",
       "      <th>3</th>\n",
       "      <td>FDX07</td>\n",
       "      <td>19.200</td>\n",
       "      <td>Regular</td>\n",
       "      <td>0.000000</td>\n",
       "      <td>Fruits and Vegetables</td>\n",
       "      <td>182.0950</td>\n",
       "      <td>OUT010</td>\n",
       "      <td>1998</td>\n",
       "      <td>NaN</td>\n",
       "      <td>Tier 3</td>\n",
       "      <td>Grocery Store</td>\n",
       "      <td>732.3800</td>\n",
       "    </tr>\n",
       "    <tr>\n",
       "      <th>4</th>\n",
       "      <td>NCD19</td>\n",
       "      <td>8.930</td>\n",
       "      <td>Low Fat</td>\n",
       "      <td>0.000000</td>\n",
       "      <td>Household</td>\n",
       "      <td>53.8614</td>\n",
       "      <td>OUT013</td>\n",
       "      <td>1987</td>\n",
       "      <td>High</td>\n",
       "      <td>Tier 3</td>\n",
       "      <td>Supermarket Type1</td>\n",
       "      <td>994.7052</td>\n",
       "    </tr>\n",
       "    <tr>\n",
       "      <th>5</th>\n",
       "      <td>FDP36</td>\n",
       "      <td>10.395</td>\n",
       "      <td>Regular</td>\n",
       "      <td>0.000000</td>\n",
       "      <td>Baking Goods</td>\n",
       "      <td>51.4008</td>\n",
       "      <td>OUT018</td>\n",
       "      <td>2009</td>\n",
       "      <td>Medium</td>\n",
       "      <td>Tier 3</td>\n",
       "      <td>Supermarket Type2</td>\n",
       "      <td>556.6088</td>\n",
       "    </tr>\n",
       "    <tr>\n",
       "      <th>6</th>\n",
       "      <td>FDO10</td>\n",
       "      <td>13.650</td>\n",
       "      <td>Regular</td>\n",
       "      <td>0.012741</td>\n",
       "      <td>Snack Foods</td>\n",
       "      <td>57.6588</td>\n",
       "      <td>OUT013</td>\n",
       "      <td>1987</td>\n",
       "      <td>High</td>\n",
       "      <td>Tier 3</td>\n",
       "      <td>Supermarket Type1</td>\n",
       "      <td>343.5528</td>\n",
       "    </tr>\n",
       "    <tr>\n",
       "      <th>7</th>\n",
       "      <td>FDP10</td>\n",
       "      <td>NaN</td>\n",
       "      <td>Low Fat</td>\n",
       "      <td>0.127470</td>\n",
       "      <td>Snack Foods</td>\n",
       "      <td>107.7622</td>\n",
       "      <td>OUT027</td>\n",
       "      <td>1985</td>\n",
       "      <td>Medium</td>\n",
       "      <td>Tier 3</td>\n",
       "      <td>Supermarket Type3</td>\n",
       "      <td>4022.7636</td>\n",
       "    </tr>\n",
       "    <tr>\n",
       "      <th>8</th>\n",
       "      <td>FDH17</td>\n",
       "      <td>16.200</td>\n",
       "      <td>Regular</td>\n",
       "      <td>0.016687</td>\n",
       "      <td>Frozen Foods</td>\n",
       "      <td>96.9726</td>\n",
       "      <td>OUT045</td>\n",
       "      <td>2002</td>\n",
       "      <td>NaN</td>\n",
       "      <td>Tier 2</td>\n",
       "      <td>Supermarket Type1</td>\n",
       "      <td>1076.5986</td>\n",
       "    </tr>\n",
       "    <tr>\n",
       "      <th>9</th>\n",
       "      <td>FDU28</td>\n",
       "      <td>19.200</td>\n",
       "      <td>Regular</td>\n",
       "      <td>0.094450</td>\n",
       "      <td>Frozen Foods</td>\n",
       "      <td>187.8214</td>\n",
       "      <td>OUT017</td>\n",
       "      <td>2007</td>\n",
       "      <td>NaN</td>\n",
       "      <td>Tier 2</td>\n",
       "      <td>Supermarket Type1</td>\n",
       "      <td>4710.5350</td>\n",
       "    </tr>\n",
       "  </tbody>\n",
       "</table>\n",
       "</div>"
      ],
      "text/plain": [
       "  Item_Identifier  Item_Weight Item_Fat_Content  Item_Visibility  \\\n",
       "0           FDA15        9.300          Low Fat         0.016047   \n",
       "1           DRC01        5.920          Regular         0.019278   \n",
       "2           FDN15       17.500          Low Fat         0.016760   \n",
       "3           FDX07       19.200          Regular         0.000000   \n",
       "4           NCD19        8.930          Low Fat         0.000000   \n",
       "5           FDP36       10.395          Regular         0.000000   \n",
       "6           FDO10       13.650          Regular         0.012741   \n",
       "7           FDP10          NaN          Low Fat         0.127470   \n",
       "8           FDH17       16.200          Regular         0.016687   \n",
       "9           FDU28       19.200          Regular         0.094450   \n",
       "\n",
       "               Item_Type  Item_MRP Outlet_Identifier  \\\n",
       "0                  Dairy  249.8092            OUT049   \n",
       "1            Soft Drinks   48.2692            OUT018   \n",
       "2                   Meat  141.6180            OUT049   \n",
       "3  Fruits and Vegetables  182.0950            OUT010   \n",
       "4              Household   53.8614            OUT013   \n",
       "5           Baking Goods   51.4008            OUT018   \n",
       "6            Snack Foods   57.6588            OUT013   \n",
       "7            Snack Foods  107.7622            OUT027   \n",
       "8           Frozen Foods   96.9726            OUT045   \n",
       "9           Frozen Foods  187.8214            OUT017   \n",
       "\n",
       "   Outlet_Establishment_Year Outlet_Size Outlet_Location_Type  \\\n",
       "0                       1999      Medium               Tier 1   \n",
       "1                       2009      Medium               Tier 3   \n",
       "2                       1999      Medium               Tier 1   \n",
       "3                       1998         NaN               Tier 3   \n",
       "4                       1987        High               Tier 3   \n",
       "5                       2009      Medium               Tier 3   \n",
       "6                       1987        High               Tier 3   \n",
       "7                       1985      Medium               Tier 3   \n",
       "8                       2002         NaN               Tier 2   \n",
       "9                       2007         NaN               Tier 2   \n",
       "\n",
       "         Outlet_Type  Item_Outlet_Sales  \n",
       "0  Supermarket Type1          3735.1380  \n",
       "1  Supermarket Type2           443.4228  \n",
       "2  Supermarket Type1          2097.2700  \n",
       "3      Grocery Store           732.3800  \n",
       "4  Supermarket Type1           994.7052  \n",
       "5  Supermarket Type2           556.6088  \n",
       "6  Supermarket Type1           343.5528  \n",
       "7  Supermarket Type3          4022.7636  \n",
       "8  Supermarket Type1          1076.5986  \n",
       "9  Supermarket Type1          4710.5350  "
      ]
     },
     "execution_count": 9,
     "metadata": {},
     "output_type": "execute_result"
    }
   ],
   "source": [
    "train.head(10)"
   ]
  },
  {
   "cell_type": "code",
   "execution_count": 10,
   "metadata": {
    "scrolled": true
   },
   "outputs": [
    {
     "name": "stdout",
     "output_type": "stream",
     "text": [
      "<class 'pandas.core.frame.DataFrame'>\n",
      "RangeIndex: 8523 entries, 0 to 8522\n",
      "Data columns (total 12 columns):\n",
      " #   Column                     Non-Null Count  Dtype  \n",
      "---  ------                     --------------  -----  \n",
      " 0   Item_Identifier            8523 non-null   object \n",
      " 1   Item_Weight                7060 non-null   float64\n",
      " 2   Item_Fat_Content           8523 non-null   object \n",
      " 3   Item_Visibility            8523 non-null   float64\n",
      " 4   Item_Type                  8523 non-null   object \n",
      " 5   Item_MRP                   8523 non-null   float64\n",
      " 6   Outlet_Identifier          8523 non-null   object \n",
      " 7   Outlet_Establishment_Year  8523 non-null   int64  \n",
      " 8   Outlet_Size                6113 non-null   object \n",
      " 9   Outlet_Location_Type       8523 non-null   object \n",
      " 10  Outlet_Type                8523 non-null   object \n",
      " 11  Item_Outlet_Sales          8523 non-null   float64\n",
      "dtypes: float64(4), int64(1), object(7)\n",
      "memory usage: 799.2+ KB\n"
     ]
    }
   ],
   "source": [
    "train.info()"
   ]
  },
  {
   "cell_type": "markdown",
   "metadata": {},
   "source": [
    "## train.shape"
   ]
  },
  {
   "cell_type": "code",
   "execution_count": 11,
   "metadata": {},
   "outputs": [
    {
     "data": {
      "text/plain": [
       "Item_Identifier              0.000000\n",
       "Item_Weight                  0.171653\n",
       "Item_Fat_Content             0.000000\n",
       "Item_Visibility              0.000000\n",
       "Item_Type                    0.000000\n",
       "Item_MRP                     0.000000\n",
       "Outlet_Identifier            0.000000\n",
       "Outlet_Establishment_Year    0.000000\n",
       "Outlet_Size                  0.282764\n",
       "Outlet_Location_Type         0.000000\n",
       "Outlet_Type                  0.000000\n",
       "Item_Outlet_Sales            0.000000\n",
       "dtype: float64"
      ]
     },
     "execution_count": 11,
     "metadata": {},
     "output_type": "execute_result"
    }
   ],
   "source": [
    "train.isnull().mean()"
   ]
  },
  {
   "cell_type": "code",
   "execution_count": 15,
   "metadata": {
    "scrolled": true
   },
   "outputs": [
    {
     "data": {
      "text/plain": [
       "12.857645184136183"
      ]
     },
     "execution_count": 15,
     "metadata": {},
     "output_type": "execute_result"
    }
   ],
   "source": [
    "train.Item_Weight.mean()"
   ]
  },
  {
   "cell_type": "raw",
   "metadata": {},
   "source": [
    "train.Item_Weight = train.Item_Weight.fillna(train.Item_Weight.mean())"
   ]
  },
  {
   "cell_type": "code",
   "execution_count": 16,
   "metadata": {},
   "outputs": [],
   "source": [
    "from matplotlib import pyplot as plt"
   ]
  },
  {
   "cell_type": "code",
   "execution_count": 19,
   "metadata": {},
   "outputs": [
    {
     "data": {
      "image/png": "[encoded data removed]",
      "text/plain": [
       "<Figure size 432x288 with 16 Axes>"
      ]
     },
     "metadata": {
      "needs_background": "light"
     },
     "output_type": "display_data"
    }
   ],
   "source": [
    "# plt.figure(figsize=(16,16))\n",
    "train.hist('Item_Weight', by='Item_Type')\n",
    "plt.show()"
   ]
  },
  {
   "cell_type": "code",
   "execution_count": 26,
   "metadata": {},
   "outputs": [
    {
     "data": {
      "text/plain": [
       "13.42606890459367"
      ]
     },
     "execution_count": 26,
     "metadata": {},
     "output_type": "execute_result"
    }
   ],
   "source": [
    "train[train.Item_Type == 'Dairy']['Item_Weight'].mean()"
   ]
  },
  {
   "cell_type": "code",
   "execution_count": 27,
   "metadata": {},
   "outputs": [],
   "source": [
    "def fill_missing(cols):\n",
    "    item_type = cols[0]\n",
    "    item_weight = cols[1]\n",
    "    if pd.isnull(item_weight):\n",
    "        return train[train.Item_Type == item_type]['Item_Weight'].mean()\n",
    "    else:\n",
    "        return item_weight"
   ]
  },
  {
   "cell_type": "code",
   "execution_count": 28,
   "metadata": {},
   "outputs": [
    {
     "data": {
      "text/plain": [
       "0        9.300\n",
       "1        5.920\n",
       "2       17.500\n",
       "3       19.200\n",
       "4        8.930\n",
       "         ...  \n",
       "8518     6.865\n",
       "8519     8.380\n",
       "8520    10.600\n",
       "8521     7.210\n",
       "8522    14.800\n",
       "Length: 8523, dtype: float64"
      ]
     },
     "execution_count": 28,
     "metadata": {},
     "output_type": "execute_result"
    }
   ],
   "source": [
    "train[['Item_Type', 'Item_Weight']].apply(fill_missing, axis=1)"
   ]
  },
  {
   "cell_type": "code",
   "execution_count": 29,
   "metadata": {},
   "outputs": [],
   "source": [
    "train.Item_Weight = train[['Item_Type', 'Item_Weight']].apply(fill_missing, axis=1)"
   ]
  },
  {
   "cell_type": "code",
   "execution_count": 30,
   "metadata": {},
   "outputs": [
    {
     "data": {
      "text/plain": [
       "<AxesSubplot:ylabel='Density'>"
      ]
     },
     "execution_count": 30,
     "metadata": {},
     "output_type": "execute_result"
    },
    {
     "data": {
      "image/png": "[encoded data removed]",
      "text/plain": [
       "<Figure size 432x288 with 1 Axes>"
      ]
     },
     "metadata": {
      "needs_background": "light"
     },
     "output_type": "display_data"
    }
   ],
   "source": [
    "train['Item_Weight'].plot(kind='kde')"
   ]
  },
  {
   "cell_type": "code",
   "execution_count": 31,
   "metadata": {},
   "outputs": [
    {
     "data": {
      "text/plain": [
       "0       Medium\n",
       "1       Medium\n",
       "2       Medium\n",
       "3          NaN\n",
       "4         High\n",
       "         ...  \n",
       "8518      High\n",
       "8519       NaN\n",
       "8520     Small\n",
       "8521    Medium\n",
       "8522     Small\n",
       "Name: Outlet_Size, Length: 8523, dtype: object"
      ]
     },
     "execution_count": 31,
     "metadata": {},
     "output_type": "execute_result"
    }
   ],
   "source": [
    "train.Outlet_Size"
   ]
  },
  {
   "cell_type": "code",
   "execution_count": 36,
   "metadata": {},
   "outputs": [
    {
     "data": {
      "text/plain": [
       "'Medium'"
      ]
     },
     "execution_count": 36,
     "metadata": {},
     "output_type": "execute_result"
    }
   ],
   "source": [
    "train.Outlet_Size.mode()[0]"
   ]
  },
  {
   "cell_type": "code",
   "execution_count": 37,
   "metadata": {},
   "outputs": [],
   "source": [
    "train.Outlet_Size = train.Outlet_Size.fillna(train.Outlet_Size.mode()[0])"
   ]
  },
  {
   "cell_type": "code",
   "execution_count": 38,
   "metadata": {},
   "outputs": [
    {
     "data": {
      "text/plain": [
       "Item_Identifier              0\n",
       "Item_Weight                  0\n",
       "Item_Fat_Content             0\n",
       "Item_Visibility              0\n",
       "Item_Type                    0\n",
       "Item_MRP                     0\n",
       "Outlet_Identifier            0\n",
       "Outlet_Establishment_Year    0\n",
       "Outlet_Size                  0\n",
       "Outlet_Location_Type         0\n",
       "Outlet_Type                  0\n",
       "Item_Outlet_Sales            0\n",
       "dtype: int64"
      ]
     },
     "execution_count": 38,
     "metadata": {},
     "output_type": "execute_result"
    }
   ],
   "source": [
    "train.isnull().sum()"
   ]
  },
  {
   "cell_type": "code",
   "execution_count": 39,
   "metadata": {},
   "outputs": [
    {
     "data": {
      "text/plain": [
       "array(['Low Fat', 'Regular', 'low fat', 'LF', 'reg'], dtype=object)"
      ]
     },
     "execution_count": 39,
     "metadata": {},
     "output_type": "execute_result"
    }
   ],
   "source": [
    "train.Item_Fat_Content.unique()"
   ]
  },
  {
   "cell_type": "code",
   "execution_count": 40,
   "metadata": {},
   "outputs": [],
   "source": [
    "train.Item_Fat_Content = train.Item_Fat_Content.replace(['low fat', 'LF'], 'Low Fat')"
   ]
  },
  {
   "cell_type": "code",
   "execution_count": 41,
   "metadata": {},
   "outputs": [],
   "source": [
    "train.Item_Fat_Content = train.Item_Fat_Content.replace(['reg'], 'Regular')"
   ]
  },
  {
   "cell_type": "code",
   "execution_count": 43,
   "metadata": {},
   "outputs": [
    {
     "data": {
      "text/plain": [
       "array(['Low Fat', 'Regular'], dtype=object)"
      ]
     },
     "execution_count": 43,
     "metadata": {},
     "output_type": "execute_result"
    }
   ],
   "source": [
    "train.Item_Fat_Content.unique()"
   ]
  },
  {
   "cell_type": "code",
   "execution_count": 44,
   "metadata": {},
   "outputs": [
    {
     "data": {
      "text/html": [
       "<div>\n",
       "<style scoped>\n",
       "    .dataframe tbody tr th:only-of-type {\n",
       "        vertical-align: middle;\n",
       "    }\n",
       "\n",
       "    .dataframe tbody tr th {\n",
       "        vertical-align: top;\n",
       "    }\n",
       "\n",
       "    .dataframe thead th {\n",
       "        text-align: right;\n",
       "    }\n",
       "</style>\n",
       "<table border=\"1\" class=\"dataframe\">\n",
       "  <thead>\n",
       "    <tr style=\"text-align: right;\">\n",
       "      <th></th>\n",
       "      <th>Item_Identifier</th>\n",
       "      <th>Item_Weight</th>\n",
       "      <th>Item_Fat_Content</th>\n",
       "      <th>Item_Visibility</th>\n",
       "      <th>Item_Type</th>\n",
       "      <th>Item_MRP</th>\n",
       "      <th>Outlet_Identifier</th>\n",
       "      <th>Outlet_Establishment_Year</th>\n",
       "      <th>Outlet_Size</th>\n",
       "      <th>Outlet_Location_Type</th>\n",
       "      <th>Outlet_Type</th>\n",
       "      <th>Item_Outlet_Sales</th>\n",
       "    </tr>\n",
       "  </thead>\n",
       "  <tbody>\n",
       "    <tr>\n",
       "      <th>0</th>\n",
       "      <td>FDA15</td>\n",
       "      <td>9.300</td>\n",
       "      <td>Low Fat</td>\n",
       "      <td>0.016047</td>\n",
       "      <td>Dairy</td>\n",
       "      <td>249.8092</td>\n",
       "      <td>OUT049</td>\n",
       "      <td>1999</td>\n",
       "      <td>Medium</td>\n",
       "      <td>Tier 1</td>\n",
       "      <td>Supermarket Type1</td>\n",
       "      <td>3735.1380</td>\n",
       "    </tr>\n",
       "    <tr>\n",
       "      <th>1</th>\n",
       "      <td>DRC01</td>\n",
       "      <td>5.920</td>\n",
       "      <td>Regular</td>\n",
       "      <td>0.019278</td>\n",
       "      <td>Soft Drinks</td>\n",
       "      <td>48.2692</td>\n",
       "      <td>OUT018</td>\n",
       "      <td>2009</td>\n",
       "      <td>Medium</td>\n",
       "      <td>Tier 3</td>\n",
       "      <td>Supermarket Type2</td>\n",
       "      <td>443.4228</td>\n",
       "    </tr>\n",
       "    <tr>\n",
       "      <th>2</th>\n",
       "      <td>FDN15</td>\n",
       "      <td>17.500</td>\n",
       "      <td>Low Fat</td>\n",
       "      <td>0.016760</td>\n",
       "      <td>Meat</td>\n",
       "      <td>141.6180</td>\n",
       "      <td>OUT049</td>\n",
       "      <td>1999</td>\n",
       "      <td>Medium</td>\n",
       "      <td>Tier 1</td>\n",
       "      <td>Supermarket Type1</td>\n",
       "      <td>2097.2700</td>\n",
       "    </tr>\n",
       "    <tr>\n",
       "      <th>3</th>\n",
       "      <td>FDX07</td>\n",
       "      <td>19.200</td>\n",
       "      <td>Regular</td>\n",
       "      <td>0.000000</td>\n",
       "      <td>Fruits and Vegetables</td>\n",
       "      <td>182.0950</td>\n",
       "      <td>OUT010</td>\n",
       "      <td>1998</td>\n",
       "      <td>Medium</td>\n",
       "      <td>Tier 3</td>\n",
       "      <td>Grocery Store</td>\n",
       "      <td>732.3800</td>\n",
       "    </tr>\n",
       "    <tr>\n",
       "      <th>4</th>\n",
       "      <td>NCD19</td>\n",
       "      <td>8.930</td>\n",
       "      <td>Low Fat</td>\n",
       "      <td>0.000000</td>\n",
       "      <td>Household</td>\n",
       "      <td>53.8614</td>\n",
       "      <td>OUT013</td>\n",
       "      <td>1987</td>\n",
       "      <td>High</td>\n",
       "      <td>Tier 3</td>\n",
       "      <td>Supermarket Type1</td>\n",
       "      <td>994.7052</td>\n",
       "    </tr>\n",
       "    <tr>\n",
       "      <th>...</th>\n",
       "      <td>...</td>\n",
       "      <td>...</td>\n",
       "      <td>...</td>\n",
       "      <td>...</td>\n",
       "      <td>...</td>\n",
       "      <td>...</td>\n",
       "      <td>...</td>\n",
       "      <td>...</td>\n",
       "      <td>...</td>\n",
       "      <td>...</td>\n",
       "      <td>...</td>\n",
       "      <td>...</td>\n",
       "    </tr>\n",
       "    <tr>\n",
       "      <th>8518</th>\n",
       "      <td>FDF22</td>\n",
       "      <td>6.865</td>\n",
       "      <td>Low Fat</td>\n",
       "      <td>0.056783</td>\n",
       "      <td>Snack Foods</td>\n",
       "      <td>214.5218</td>\n",
       "      <td>OUT013</td>\n",
       "      <td>1987</td>\n",
       "      <td>High</td>\n",
       "      <td>Tier 3</td>\n",
       "      <td>Supermarket Type1</td>\n",
       "      <td>2778.3834</td>\n",
       "    </tr>\n",
       "    <tr>\n",
       "      <th>8519</th>\n",
       "      <td>FDS36</td>\n",
       "      <td>8.380</td>\n",
       "      <td>Regular</td>\n",
       "      <td>0.046982</td>\n",
       "      <td>Baking Goods</td>\n",
       "      <td>108.1570</td>\n",
       "      <td>OUT045</td>\n",
       "      <td>2002</td>\n",
       "      <td>Medium</td>\n",
       "      <td>Tier 2</td>\n",
       "      <td>Supermarket Type1</td>\n",
       "      <td>549.2850</td>\n",
       "    </tr>\n",
       "    <tr>\n",
       "      <th>8520</th>\n",
       "      <td>NCJ29</td>\n",
       "      <td>10.600</td>\n",
       "      <td>Low Fat</td>\n",
       "      <td>0.035186</td>\n",
       "      <td>Health and Hygiene</td>\n",
       "      <td>85.1224</td>\n",
       "      <td>OUT035</td>\n",
       "      <td>2004</td>\n",
       "      <td>Small</td>\n",
       "      <td>Tier 2</td>\n",
       "      <td>Supermarket Type1</td>\n",
       "      <td>1193.1136</td>\n",
       "    </tr>\n",
       "    <tr>\n",
       "      <th>8521</th>\n",
       "      <td>FDN46</td>\n",
       "      <td>7.210</td>\n",
       "      <td>Regular</td>\n",
       "      <td>0.145221</td>\n",
       "      <td>Snack Foods</td>\n",
       "      <td>103.1332</td>\n",
       "      <td>OUT018</td>\n",
       "      <td>2009</td>\n",
       "      <td>Medium</td>\n",
       "      <td>Tier 3</td>\n",
       "      <td>Supermarket Type2</td>\n",
       "      <td>1845.5976</td>\n",
       "    </tr>\n",
       "    <tr>\n",
       "      <th>8522</th>\n",
       "      <td>DRG01</td>\n",
       "      <td>14.800</td>\n",
       "      <td>Low Fat</td>\n",
       "      <td>0.044878</td>\n",
       "      <td>Soft Drinks</td>\n",
       "      <td>75.4670</td>\n",
       "      <td>OUT046</td>\n",
       "      <td>1997</td>\n",
       "      <td>Small</td>\n",
       "      <td>Tier 1</td>\n",
       "      <td>Supermarket Type1</td>\n",
       "      <td>765.6700</td>\n",
       "    </tr>\n",
       "  </tbody>\n",
       "</table>\n",
       "<p>8523 rows × 12 columns</p>\n",
       "</div>"
      ],
      "text/plain": [
       "     Item_Identifier  Item_Weight Item_Fat_Content  Item_Visibility  \\\n",
       "0              FDA15        9.300          Low Fat         0.016047   \n",
       "1              DRC01        5.920          Regular         0.019278   \n",
       "2              FDN15       17.500          Low Fat         0.016760   \n",
       "3              FDX07       19.200          Regular         0.000000   \n",
       "4              NCD19        8.930          Low Fat         0.000000   \n",
       "...              ...          ...              ...              ...   \n",
       "8518           FDF22        6.865          Low Fat         0.056783   \n",
       "8519           FDS36        8.380          Regular         0.046982   \n",
       "8520           NCJ29       10.600          Low Fat         0.035186   \n",
       "8521           FDN46        7.210          Regular         0.145221   \n",
       "8522           DRG01       14.800          Low Fat         0.044878   \n",
       "\n",
       "                  Item_Type  Item_MRP Outlet_Identifier  \\\n",
       "0                     Dairy  249.8092            OUT049   \n",
       "1               Soft Drinks   48.2692            OUT018   \n",
       "2                      Meat  141.6180            OUT049   \n",
       "3     Fruits and Vegetables  182.0950            OUT010   \n",
       "4                 Household   53.8614            OUT013   \n",
       "...                     ...       ...               ...   \n",
       "8518            Snack Foods  214.5218            OUT013   \n",
       "8519           Baking Goods  108.1570            OUT045   \n",
       "8520     Health and Hygiene   85.1224            OUT035   \n",
       "8521            Snack Foods  103.1332            OUT018   \n",
       "8522            Soft Drinks   75.4670            OUT046   \n",
       "\n",
       "      Outlet_Establishment_Year Outlet_Size Outlet_Location_Type  \\\n",
       "0                          1999      Medium               Tier 1   \n",
       "1                          2009      Medium               Tier 3   \n",
       "2                          1999      Medium               Tier 1   \n",
       "3                          1998      Medium               Tier 3   \n",
       "4                          1987        High               Tier 3   \n",
       "...                         ...         ...                  ...   \n",
       "8518                       1987        High               Tier 3   \n",
       "8519                       2002      Medium               Tier 2   \n",
       "8520                       2004       Small               Tier 2   \n",
       "8521                       2009      Medium               Tier 3   \n",
       "8522                       1997       Small               Tier 1   \n",
       "\n",
       "            Outlet_Type  Item_Outlet_Sales  \n",
       "0     Supermarket Type1          3735.1380  \n",
       "1     Supermarket Type2           443.4228  \n",
       "2     Supermarket Type1          2097.2700  \n",
       "3         Grocery Store           732.3800  \n",
       "4     Supermarket Type1           994.7052  \n",
       "...                 ...                ...  \n",
       "8518  Supermarket Type1          2778.3834  \n",
       "8519  Supermarket Type1           549.2850  \n",
       "8520  Supermarket Type1          1193.1136  \n",
       "8521  Supermarket Type2          1845.5976  \n",
       "8522  Supermarket Type1           765.6700  \n",
       "\n",
       "[8523 rows x 12 columns]"
      ]
     },
     "execution_count": 44,
     "metadata": {},
     "output_type": "execute_result"
    }
   ],
   "source": [
    "train"
   ]
  },
  {
   "cell_type": "code",
   "execution_count": 45,
   "metadata": {},
   "outputs": [],
   "source": [
    "train['Age'] = 2021 - train.Outlet_Establishment_Year"
   ]
  },
  {
   "cell_type": "code",
   "execution_count": 46,
   "metadata": {},
   "outputs": [
    {
     "data": {
      "text/html": [
       "<div>\n",
       "<style scoped>\n",
       "    .dataframe tbody tr th:only-of-type {\n",
       "        vertical-align: middle;\n",
       "    }\n",
       "\n",
       "    .dataframe tbody tr th {\n",
       "        vertical-align: top;\n",
       "    }\n",
       "\n",
       "    .dataframe thead th {\n",
       "        text-align: right;\n",
       "    }\n",
       "</style>\n",
       "<table border=\"1\" class=\"dataframe\">\n",
       "  <thead>\n",
       "    <tr style=\"text-align: right;\">\n",
       "      <th></th>\n",
       "      <th>Item_Identifier</th>\n",
       "      <th>Item_Weight</th>\n",
       "      <th>Item_Fat_Content</th>\n",
       "      <th>Item_Visibility</th>\n",
       "      <th>Item_Type</th>\n",
       "      <th>Item_MRP</th>\n",
       "      <th>Outlet_Identifier</th>\n",
       "      <th>Outlet_Establishment_Year</th>\n",
       "      <th>Outlet_Size</th>\n",
       "      <th>Outlet_Location_Type</th>\n",
       "      <th>Outlet_Type</th>\n",
       "      <th>Item_Outlet_Sales</th>\n",
       "      <th>Age</th>\n",
       "    </tr>\n",
       "  </thead>\n",
       "  <tbody>\n",
       "    <tr>\n",
       "      <th>0</th>\n",
       "      <td>FDA15</td>\n",
       "      <td>9.30</td>\n",
       "      <td>Low Fat</td>\n",
       "      <td>0.016047</td>\n",
       "      <td>Dairy</td>\n",
       "      <td>249.8092</td>\n",
       "      <td>OUT049</td>\n",
       "      <td>1999</td>\n",
       "      <td>Medium</td>\n",
       "      <td>Tier 1</td>\n",
       "      <td>Supermarket Type1</td>\n",
       "      <td>3735.1380</td>\n",
       "      <td>22</td>\n",
       "    </tr>\n",
       "    <tr>\n",
       "      <th>1</th>\n",
       "      <td>DRC01</td>\n",
       "      <td>5.92</td>\n",
       "      <td>Regular</td>\n",
       "      <td>0.019278</td>\n",
       "      <td>Soft Drinks</td>\n",
       "      <td>48.2692</td>\n",
       "      <td>OUT018</td>\n",
       "      <td>2009</td>\n",
       "      <td>Medium</td>\n",
       "      <td>Tier 3</td>\n",
       "      <td>Supermarket Type2</td>\n",
       "      <td>443.4228</td>\n",
       "      <td>12</td>\n",
       "    </tr>\n",
       "    <tr>\n",
       "      <th>2</th>\n",
       "      <td>FDN15</td>\n",
       "      <td>17.50</td>\n",
       "      <td>Low Fat</td>\n",
       "      <td>0.016760</td>\n",
       "      <td>Meat</td>\n",
       "      <td>141.6180</td>\n",
       "      <td>OUT049</td>\n",
       "      <td>1999</td>\n",
       "      <td>Medium</td>\n",
       "      <td>Tier 1</td>\n",
       "      <td>Supermarket Type1</td>\n",
       "      <td>2097.2700</td>\n",
       "      <td>22</td>\n",
       "    </tr>\n",
       "    <tr>\n",
       "      <th>3</th>\n",
       "      <td>FDX07</td>\n",
       "      <td>19.20</td>\n",
       "      <td>Regular</td>\n",
       "      <td>0.000000</td>\n",
       "      <td>Fruits and Vegetables</td>\n",
       "      <td>182.0950</td>\n",
       "      <td>OUT010</td>\n",
       "      <td>1998</td>\n",
       "      <td>Medium</td>\n",
       "      <td>Tier 3</td>\n",
       "      <td>Grocery Store</td>\n",
       "      <td>732.3800</td>\n",
       "      <td>23</td>\n",
       "    </tr>\n",
       "    <tr>\n",
       "      <th>4</th>\n",
       "      <td>NCD19</td>\n",
       "      <td>8.93</td>\n",
       "      <td>Low Fat</td>\n",
       "      <td>0.000000</td>\n",
       "      <td>Household</td>\n",
       "      <td>53.8614</td>\n",
       "      <td>OUT013</td>\n",
       "      <td>1987</td>\n",
       "      <td>High</td>\n",
       "      <td>Tier 3</td>\n",
       "      <td>Supermarket Type1</td>\n",
       "      <td>994.7052</td>\n",
       "      <td>34</td>\n",
       "    </tr>\n",
       "  </tbody>\n",
       "</table>\n",
       "</div>"
      ],
      "text/plain": [
       "  Item_Identifier  Item_Weight Item_Fat_Content  Item_Visibility  \\\n",
       "0           FDA15         9.30          Low Fat         0.016047   \n",
       "1           DRC01         5.92          Regular         0.019278   \n",
       "2           FDN15        17.50          Low Fat         0.016760   \n",
       "3           FDX07        19.20          Regular         0.000000   \n",
       "4           NCD19         8.93          Low Fat         0.000000   \n",
       "\n",
       "               Item_Type  Item_MRP Outlet_Identifier  \\\n",
       "0                  Dairy  249.8092            OUT049   \n",
       "1            Soft Drinks   48.2692            OUT018   \n",
       "2                   Meat  141.6180            OUT049   \n",
       "3  Fruits and Vegetables  182.0950            OUT010   \n",
       "4              Household   53.8614            OUT013   \n",
       "\n",
       "   Outlet_Establishment_Year Outlet_Size Outlet_Location_Type  \\\n",
       "0                       1999      Medium               Tier 1   \n",
       "1                       2009      Medium               Tier 3   \n",
       "2                       1999      Medium               Tier 1   \n",
       "3                       1998      Medium               Tier 3   \n",
       "4                       1987        High               Tier 3   \n",
       "\n",
       "         Outlet_Type  Item_Outlet_Sales  Age  \n",
       "0  Supermarket Type1          3735.1380   22  \n",
       "1  Supermarket Type2           443.4228   12  \n",
       "2  Supermarket Type1          2097.2700   22  \n",
       "3      Grocery Store           732.3800   23  \n",
       "4  Supermarket Type1           994.7052   34  "
      ]
     },
     "execution_count": 46,
     "metadata": {},
     "output_type": "execute_result"
    }
   ],
   "source": [
    "train.head()"
   ]
  },
  {
   "cell_type": "code",
   "execution_count": 47,
   "metadata": {},
   "outputs": [
    {
     "data": {
      "text/plain": [
       "<AxesSubplot:>"
      ]
     },
     "execution_count": 47,
     "metadata": {},
     "output_type": "execute_result"
    },
    {
     "data": {
      "image/png": "[encoded data removed]",
      "text/plain": [
       "<Figure size 432x288 with 1 Axes>"
      ]
     },
     "metadata": {
      "needs_background": "light"
     },
     "output_type": "display_data"
    }
   ],
   "source": [
    "train['Item_Visibility'].hist()"
   ]
  },
  {
   "cell_type": "code",
   "execution_count": 28,
   "metadata": {},
   "outputs": [
    {
     "data": {
      "text/plain": [
       "<AxesSubplot:>"
      ]
     },
     "execution_count": 28,
     "metadata": {},
     "output_type": "execute_result"
    },
    {
     "data": {
      "image/png": "[encoded data removed]",
      "text/plain": [
       "<Figure size 432x288 with 1 Axes>"
      ]
     },
     "metadata": {
      "needs_background": "light"
     },
     "output_type": "display_data"
    }
   ],
   "source": [
    "train['Item_Visibility'].plot(kind='box')"
   ]
  },
  {
   "cell_type": "code",
   "execution_count": 48,
   "metadata": {},
   "outputs": [],
   "source": [
    "Q1 = train['Item_Visibility'].quantile(0.25)\n",
    "Q3 = train['Item_Visibility'].quantile(0.75)"
   ]
  },
  {
   "cell_type": "code",
   "execution_count": 49,
   "metadata": {},
   "outputs": [],
   "source": [
    "IQR = Q3 - Q1"
   ]
  },
  {
   "cell_type": "code",
   "execution_count": 50,
   "metadata": {},
   "outputs": [
    {
     "data": {
      "text/plain": [
       "0.067595815"
      ]
     },
     "execution_count": 50,
     "metadata": {},
     "output_type": "execute_result"
    }
   ],
   "source": [
    "IQR"
   ]
  },
  {
   "cell_type": "code",
   "execution_count": 51,
   "metadata": {},
   "outputs": [],
   "source": [
    "filt_train = train[(train.Item_Visibility >= (Q1 - 1.5*IQR)) & (train.Item_Visibility <= (Q3 + 1.5*IQR))]"
   ]
  },
  {
   "cell_type": "raw",
   "metadata": {},
   "source": [
    "filt_train = train.query('(@Q1 - 1.5 * @IQR) <= Item_Visibility <= (@Q3 + 1.5 * @IQR)')"
   ]
  },
  {
   "cell_type": "code",
   "execution_count": 52,
   "metadata": {},
   "outputs": [
    {
     "data": {
      "text/plain": [
       "1.689545934530095"
      ]
     },
     "execution_count": 52,
     "metadata": {},
     "output_type": "execute_result"
    }
   ],
   "source": [
    "((train.shape[0] - filt_train.shape[0])/train.shape[0])*100"
   ]
  },
  {
   "cell_type": "code",
   "execution_count": 53,
   "metadata": {},
   "outputs": [
    {
     "data": {
      "text/plain": [
       "8379"
      ]
     },
     "execution_count": 53,
     "metadata": {},
     "output_type": "execute_result"
    }
   ],
   "source": [
    "filt_train.shape[0]"
   ]
  },
  {
   "cell_type": "code",
   "execution_count": 54,
   "metadata": {},
   "outputs": [
    {
     "data": {
      "text/plain": [
       "(8379, 13)"
      ]
     },
     "execution_count": 54,
     "metadata": {},
     "output_type": "execute_result"
    }
   ],
   "source": [
    "train = filt_train.copy()\n",
    "train.shape"
   ]
  },
  {
   "cell_type": "code",
   "execution_count": 55,
   "metadata": {},
   "outputs": [
    {
     "data": {
      "text/plain": [
       "(0.0, 0.195721125)"
      ]
     },
     "execution_count": 55,
     "metadata": {},
     "output_type": "execute_result"
    }
   ],
   "source": [
    "train['Item_Visibility'].min(), train['Item_Visibility'].max()"
   ]
  },
  {
   "cell_type": "code",
   "execution_count": 56,
   "metadata": {},
   "outputs": [],
   "source": [
    "#creating a category\n",
    "train['Item_Visibility_bins'] = pd.cut(train['Item_Visibility'], [0.000, 0.065, 0.13, 0.2], # Creating bins for visibility\n",
    "                                       labels=['Low Viz', 'Viz', 'High Viz'], include_lowest=True)   # need to specify columns, bins and labels"
   ]
  },
  {
   "cell_type": "code",
   "execution_count": 57,
   "metadata": {},
   "outputs": [
    {
     "data": {
      "text/plain": [
       "0        Low Viz\n",
       "1        Low Viz\n",
       "2        Low Viz\n",
       "3        Low Viz\n",
       "4        Low Viz\n",
       "          ...   \n",
       "8518     Low Viz\n",
       "8519     Low Viz\n",
       "8520     Low Viz\n",
       "8521    High Viz\n",
       "8522     Low Viz\n",
       "Name: Item_Visibility_bins, Length: 8379, dtype: category\n",
       "Categories (3, object): ['Low Viz' < 'Viz' < 'High Viz']"
      ]
     },
     "execution_count": 57,
     "metadata": {},
     "output_type": "execute_result"
    }
   ],
   "source": [
    "train['Item_Visibility_bins']"
   ]
  },
  {
   "cell_type": "code",
   "execution_count": 58,
   "metadata": {},
   "outputs": [
    {
     "data": {
      "text/plain": [
       "Low Viz     4929\n",
       "Viz         2557\n",
       "High Viz     893\n",
       "Name: Item_Visibility_bins, dtype: int64"
      ]
     },
     "execution_count": 58,
     "metadata": {},
     "output_type": "execute_result"
    }
   ],
   "source": [
    "train['Item_Visibility_bins'].value_counts()"
   ]
  },
  {
   "cell_type": "code",
   "execution_count": 59,
   "metadata": {},
   "outputs": [
    {
     "name": "stdout",
     "output_type": "stream",
     "text": [
      "<class 'pandas.core.frame.DataFrame'>\n",
      "Int64Index: 8379 entries, 0 to 8522\n",
      "Data columns (total 14 columns):\n",
      " #   Column                     Non-Null Count  Dtype   \n",
      "---  ------                     --------------  -----   \n",
      " 0   Item_Identifier            8379 non-null   object  \n",
      " 1   Item_Weight                8379 non-null   float64 \n",
      " 2   Item_Fat_Content           8379 non-null   object  \n",
      " 3   Item_Visibility            8379 non-null   float64 \n",
      " 4   Item_Type                  8379 non-null   object  \n",
      " 5   Item_MRP                   8379 non-null   float64 \n",
      " 6   Outlet_Identifier          8379 non-null   object  \n",
      " 7   Outlet_Establishment_Year  8379 non-null   int64   \n",
      " 8   Outlet_Size                8379 non-null   object  \n",
      " 9   Outlet_Location_Type       8379 non-null   object  \n",
      " 10  Outlet_Type                8379 non-null   object  \n",
      " 11  Item_Outlet_Sales          8379 non-null   float64 \n",
      " 12  Age                        8379 non-null   int64   \n",
      " 13  Item_Visibility_bins       8379 non-null   category\n",
      "dtypes: category(1), float64(4), int64(2), object(7)\n",
      "memory usage: 924.8+ KB\n"
     ]
    }
   ],
   "source": [
    "train.info()"
   ]
  },
  {
   "cell_type": "code",
   "execution_count": 60,
   "metadata": {},
   "outputs": [],
   "source": [
    "train = pd.get_dummies(train, columns=['Item_Fat_Content', 'Outlet_Size', 'Outlet_Location_Type', \\\n",
    "                               'Outlet_Type', 'Item_Visibility_bins'])"
   ]
  },
  {
   "cell_type": "code",
   "execution_count": 61,
   "metadata": {},
   "outputs": [
    {
     "name": "stdout",
     "output_type": "stream",
     "text": [
      "<class 'pandas.core.frame.DataFrame'>\n",
      "Int64Index: 8379 entries, 0 to 8522\n",
      "Data columns (total 24 columns):\n",
      " #   Column                         Non-Null Count  Dtype  \n",
      "---  ------                         --------------  -----  \n",
      " 0   Item_Identifier                8379 non-null   object \n",
      " 1   Item_Weight                    8379 non-null   float64\n",
      " 2   Item_Visibility                8379 non-null   float64\n",
      " 3   Item_Type                      8379 non-null   object \n",
      " 4   Item_MRP                       8379 non-null   float64\n",
      " 5   Outlet_Identifier              8379 non-null   object \n",
      " 6   Outlet_Establishment_Year      8379 non-null   int64  \n",
      " 7   Item_Outlet_Sales              8379 non-null   float64\n",
      " 8   Age                            8379 non-null   int64  \n",
      " 9   Item_Fat_Content_Low Fat       8379 non-null   uint8  \n",
      " 10  Item_Fat_Content_Regular       8379 non-null   uint8  \n",
      " 11  Outlet_Size_High               8379 non-null   uint8  \n",
      " 12  Outlet_Size_Medium             8379 non-null   uint8  \n",
      " 13  Outlet_Size_Small              8379 non-null   uint8  \n",
      " 14  Outlet_Location_Type_Tier 1    8379 non-null   uint8  \n",
      " 15  Outlet_Location_Type_Tier 2    8379 non-null   uint8  \n",
      " 16  Outlet_Location_Type_Tier 3    8379 non-null   uint8  \n",
      " 17  Outlet_Type_Grocery Store      8379 non-null   uint8  \n",
      " 18  Outlet_Type_Supermarket Type1  8379 non-null   uint8  \n",
      " 19  Outlet_Type_Supermarket Type2  8379 non-null   uint8  \n",
      " 20  Outlet_Type_Supermarket Type3  8379 non-null   uint8  \n",
      " 21  Item_Visibility_bins_Low Viz   8379 non-null   uint8  \n",
      " 22  Item_Visibility_bins_Viz       8379 non-null   uint8  \n",
      " 23  Item_Visibility_bins_High Viz  8379 non-null   uint8  \n",
      "dtypes: float64(4), int64(2), object(3), uint8(15)\n",
      "memory usage: 777.3+ KB\n"
     ]
    }
   ],
   "source": [
    "train.info()"
   ]
  },
  {
   "cell_type": "code",
   "execution_count": 62,
   "metadata": {},
   "outputs": [],
   "source": [
    "cols_to_drop = ['Item_Identifier', 'Item_Visibility', 'Item_Type', 'Outlet_Identifier', \n",
    "                'Outlet_Establishment_Year']"
   ]
  },
  {
   "cell_type": "code",
   "execution_count": 63,
   "metadata": {},
   "outputs": [],
   "source": [
    "final_train = train.drop(cols_to_drop, axis=1)"
   ]
  },
  {
   "cell_type": "code",
   "execution_count": 64,
   "metadata": {},
   "outputs": [
    {
     "data": {
      "text/html": [
       "<div>\n",
       "<style scoped>\n",
       "    .dataframe tbody tr th:only-of-type {\n",
       "        vertical-align: middle;\n",
       "    }\n",
       "\n",
       "    .dataframe tbody tr th {\n",
       "        vertical-align: top;\n",
       "    }\n",
       "\n",
       "    .dataframe thead th {\n",
       "        text-align: right;\n",
       "    }\n",
       "</style>\n",
       "<table border=\"1\" class=\"dataframe\">\n",
       "  <thead>\n",
       "    <tr style=\"text-align: right;\">\n",
       "      <th></th>\n",
       "      <th>Item_Weight</th>\n",
       "      <th>Item_MRP</th>\n",
       "      <th>Item_Outlet_Sales</th>\n",
       "      <th>Age</th>\n",
       "      <th>Item_Fat_Content_Low Fat</th>\n",
       "      <th>Item_Fat_Content_Regular</th>\n",
       "      <th>Outlet_Size_High</th>\n",
       "      <th>Outlet_Size_Medium</th>\n",
       "      <th>Outlet_Size_Small</th>\n",
       "      <th>Outlet_Location_Type_Tier 1</th>\n",
       "      <th>Outlet_Location_Type_Tier 2</th>\n",
       "      <th>Outlet_Location_Type_Tier 3</th>\n",
       "      <th>Outlet_Type_Grocery Store</th>\n",
       "      <th>Outlet_Type_Supermarket Type1</th>\n",
       "      <th>Outlet_Type_Supermarket Type2</th>\n",
       "      <th>Outlet_Type_Supermarket Type3</th>\n",
       "      <th>Item_Visibility_bins_Low Viz</th>\n",
       "      <th>Item_Visibility_bins_Viz</th>\n",
       "      <th>Item_Visibility_bins_High Viz</th>\n",
       "    </tr>\n",
       "  </thead>\n",
       "  <tbody>\n",
       "    <tr>\n",
       "      <th>0</th>\n",
       "      <td>9.300</td>\n",
       "      <td>249.8092</td>\n",
       "      <td>3735.1380</td>\n",
       "      <td>22</td>\n",
       "      <td>1</td>\n",
       "      <td>0</td>\n",
       "      <td>0</td>\n",
       "      <td>1</td>\n",
       "      <td>0</td>\n",
       "      <td>1</td>\n",
       "      <td>0</td>\n",
       "      <td>0</td>\n",
       "      <td>0</td>\n",
       "      <td>1</td>\n",
       "      <td>0</td>\n",
       "      <td>0</td>\n",
       "      <td>1</td>\n",
       "      <td>0</td>\n",
       "      <td>0</td>\n",
       "    </tr>\n",
       "    <tr>\n",
       "      <th>1</th>\n",
       "      <td>5.920</td>\n",
       "      <td>48.2692</td>\n",
       "      <td>443.4228</td>\n",
       "      <td>12</td>\n",
       "      <td>0</td>\n",
       "      <td>1</td>\n",
       "      <td>0</td>\n",
       "      <td>1</td>\n",
       "      <td>0</td>\n",
       "      <td>0</td>\n",
       "      <td>0</td>\n",
       "      <td>1</td>\n",
       "      <td>0</td>\n",
       "      <td>0</td>\n",
       "      <td>1</td>\n",
       "      <td>0</td>\n",
       "      <td>1</td>\n",
       "      <td>0</td>\n",
       "      <td>0</td>\n",
       "    </tr>\n",
       "    <tr>\n",
       "      <th>2</th>\n",
       "      <td>17.500</td>\n",
       "      <td>141.6180</td>\n",
       "      <td>2097.2700</td>\n",
       "      <td>22</td>\n",
       "      <td>1</td>\n",
       "      <td>0</td>\n",
       "      <td>0</td>\n",
       "      <td>1</td>\n",
       "      <td>0</td>\n",
       "      <td>1</td>\n",
       "      <td>0</td>\n",
       "      <td>0</td>\n",
       "      <td>0</td>\n",
       "      <td>1</td>\n",
       "      <td>0</td>\n",
       "      <td>0</td>\n",
       "      <td>1</td>\n",
       "      <td>0</td>\n",
       "      <td>0</td>\n",
       "    </tr>\n",
       "    <tr>\n",
       "      <th>3</th>\n",
       "      <td>19.200</td>\n",
       "      <td>182.0950</td>\n",
       "      <td>732.3800</td>\n",
       "      <td>23</td>\n",
       "      <td>0</td>\n",
       "      <td>1</td>\n",
       "      <td>0</td>\n",
       "      <td>1</td>\n",
       "      <td>0</td>\n",
       "      <td>0</td>\n",
       "      <td>0</td>\n",
       "      <td>1</td>\n",
       "      <td>1</td>\n",
       "      <td>0</td>\n",
       "      <td>0</td>\n",
       "      <td>0</td>\n",
       "      <td>1</td>\n",
       "      <td>0</td>\n",
       "      <td>0</td>\n",
       "    </tr>\n",
       "    <tr>\n",
       "      <th>4</th>\n",
       "      <td>8.930</td>\n",
       "      <td>53.8614</td>\n",
       "      <td>994.7052</td>\n",
       "      <td>34</td>\n",
       "      <td>1</td>\n",
       "      <td>0</td>\n",
       "      <td>1</td>\n",
       "      <td>0</td>\n",
       "      <td>0</td>\n",
       "      <td>0</td>\n",
       "      <td>0</td>\n",
       "      <td>1</td>\n",
       "      <td>0</td>\n",
       "      <td>1</td>\n",
       "      <td>0</td>\n",
       "      <td>0</td>\n",
       "      <td>1</td>\n",
       "      <td>0</td>\n",
       "      <td>0</td>\n",
       "    </tr>\n",
       "    <tr>\n",
       "      <th>...</th>\n",
       "      <td>...</td>\n",
       "      <td>...</td>\n",
       "      <td>...</td>\n",
       "      <td>...</td>\n",
       "      <td>...</td>\n",
       "      <td>...</td>\n",
       "      <td>...</td>\n",
       "      <td>...</td>\n",
       "      <td>...</td>\n",
       "      <td>...</td>\n",
       "      <td>...</td>\n",
       "      <td>...</td>\n",
       "      <td>...</td>\n",
       "      <td>...</td>\n",
       "      <td>...</td>\n",
       "      <td>...</td>\n",
       "      <td>...</td>\n",
       "      <td>...</td>\n",
       "      <td>...</td>\n",
       "    </tr>\n",
       "    <tr>\n",
       "      <th>8518</th>\n",
       "      <td>6.865</td>\n",
       "      <td>214.5218</td>\n",
       "      <td>2778.3834</td>\n",
       "      <td>34</td>\n",
       "      <td>1</td>\n",
       "      <td>0</td>\n",
       "      <td>1</td>\n",
       "      <td>0</td>\n",
       "      <td>0</td>\n",
       "      <td>0</td>\n",
       "      <td>0</td>\n",
       "      <td>1</td>\n",
       "      <td>0</td>\n",
       "      <td>1</td>\n",
       "      <td>0</td>\n",
       "      <td>0</td>\n",
       "      <td>1</td>\n",
       "      <td>0</td>\n",
       "      <td>0</td>\n",
       "    </tr>\n",
       "    <tr>\n",
       "      <th>8519</th>\n",
       "      <td>8.380</td>\n",
       "      <td>108.1570</td>\n",
       "      <td>549.2850</td>\n",
       "      <td>19</td>\n",
       "      <td>0</td>\n",
       "      <td>1</td>\n",
       "      <td>0</td>\n",
       "      <td>1</td>\n",
       "      <td>0</td>\n",
       "      <td>0</td>\n",
       "      <td>1</td>\n",
       "      <td>0</td>\n",
       "      <td>0</td>\n",
       "      <td>1</td>\n",
       "      <td>0</td>\n",
       "      <td>0</td>\n",
       "      <td>1</td>\n",
       "      <td>0</td>\n",
       "      <td>0</td>\n",
       "    </tr>\n",
       "    <tr>\n",
       "      <th>8520</th>\n",
       "      <td>10.600</td>\n",
       "      <td>85.1224</td>\n",
       "      <td>1193.1136</td>\n",
       "      <td>17</td>\n",
       "      <td>1</td>\n",
       "      <td>0</td>\n",
       "      <td>0</td>\n",
       "      <td>0</td>\n",
       "      <td>1</td>\n",
       "      <td>0</td>\n",
       "      <td>1</td>\n",
       "      <td>0</td>\n",
       "      <td>0</td>\n",
       "      <td>1</td>\n",
       "      <td>0</td>\n",
       "      <td>0</td>\n",
       "      <td>1</td>\n",
       "      <td>0</td>\n",
       "      <td>0</td>\n",
       "    </tr>\n",
       "    <tr>\n",
       "      <th>8521</th>\n",
       "      <td>7.210</td>\n",
       "      <td>103.1332</td>\n",
       "      <td>1845.5976</td>\n",
       "      <td>12</td>\n",
       "      <td>0</td>\n",
       "      <td>1</td>\n",
       "      <td>0</td>\n",
       "      <td>1</td>\n",
       "      <td>0</td>\n",
       "      <td>0</td>\n",
       "      <td>0</td>\n",
       "      <td>1</td>\n",
       "      <td>0</td>\n",
       "      <td>0</td>\n",
       "      <td>1</td>\n",
       "      <td>0</td>\n",
       "      <td>0</td>\n",
       "      <td>0</td>\n",
       "      <td>1</td>\n",
       "    </tr>\n",
       "    <tr>\n",
       "      <th>8522</th>\n",
       "      <td>14.800</td>\n",
       "      <td>75.4670</td>\n",
       "      <td>765.6700</td>\n",
       "      <td>24</td>\n",
       "      <td>1</td>\n",
       "      <td>0</td>\n",
       "      <td>0</td>\n",
       "      <td>0</td>\n",
       "      <td>1</td>\n",
       "      <td>1</td>\n",
       "      <td>0</td>\n",
       "      <td>0</td>\n",
       "      <td>0</td>\n",
       "      <td>1</td>\n",
       "      <td>0</td>\n",
       "      <td>0</td>\n",
       "      <td>1</td>\n",
       "      <td>0</td>\n",
       "      <td>0</td>\n",
       "    </tr>\n",
       "  </tbody>\n",
       "</table>\n",
       "<p>8379 rows × 19 columns</p>\n",
       "</div>"
      ],
      "text/plain": [
       "      Item_Weight  Item_MRP  Item_Outlet_Sales  Age  Item_Fat_Content_Low Fat  \\\n",
       "0           9.300  249.8092          3735.1380   22                         1   \n",
       "1           5.920   48.2692           443.4228   12                         0   \n",
       "2          17.500  141.6180          2097.2700   22                         1   \n",
       "3          19.200  182.0950           732.3800   23                         0   \n",
       "4           8.930   53.8614           994.7052   34                         1   \n",
       "...           ...       ...                ...  ...                       ...   \n",
       "8518        6.865  214.5218          2778.3834   34                         1   \n",
       "8519        8.380  108.1570           549.2850   19                         0   \n",
       "8520       10.600   85.1224          1193.1136   17                         1   \n",
       "8521        7.210  103.1332          1845.5976   12                         0   \n",
       "8522       14.800   75.4670           765.6700   24                         1   \n",
       "\n",
       "      Item_Fat_Content_Regular  Outlet_Size_High  Outlet_Size_Medium  \\\n",
       "0                            0                 0                   1   \n",
       "1                            1                 0                   1   \n",
       "2                            0                 0                   1   \n",
       "3                            1                 0                   1   \n",
       "4                            0                 1                   0   \n",
       "...                        ...               ...                 ...   \n",
       "8518                         0                 1                   0   \n",
       "8519                         1                 0                   1   \n",
       "8520                         0                 0                   0   \n",
       "8521                         1                 0                   1   \n",
       "8522                         0                 0                   0   \n",
       "\n",
       "      Outlet_Size_Small  Outlet_Location_Type_Tier 1  \\\n",
       "0                     0                            1   \n",
       "1                     0                            0   \n",
       "2                     0                            1   \n",
       "3                     0                            0   \n",
       "4                     0                            0   \n",
       "...                 ...                          ...   \n",
       "8518                  0                            0   \n",
       "8519                  0                            0   \n",
       "8520                  1                            0   \n",
       "8521                  0                            0   \n",
       "8522                  1                            1   \n",
       "\n",
       "      Outlet_Location_Type_Tier 2  Outlet_Location_Type_Tier 3  \\\n",
       "0                               0                            0   \n",
       "1                               0                            1   \n",
       "2                               0                            0   \n",
       "3                               0                            1   \n",
       "4                               0                            1   \n",
       "...                           ...                          ...   \n",
       "8518                            0                            1   \n",
       "8519                            1                            0   \n",
       "8520                            1                            0   \n",
       "8521                            0                            1   \n",
       "8522                            0                            0   \n",
       "\n",
       "      Outlet_Type_Grocery Store  Outlet_Type_Supermarket Type1  \\\n",
       "0                             0                              1   \n",
       "1                             0                              0   \n",
       "2                             0                              1   \n",
       "3                             1                              0   \n",
       "4                             0                              1   \n",
       "...                         ...                            ...   \n",
       "8518                          0                              1   \n",
       "8519                          0                              1   \n",
       "8520                          0                              1   \n",
       "8521                          0                              0   \n",
       "8522                          0                              1   \n",
       "\n",
       "      Outlet_Type_Supermarket Type2  Outlet_Type_Supermarket Type3  \\\n",
       "0                                 0                              0   \n",
       "1                                 1                              0   \n",
       "2                                 0                              0   \n",
       "3                                 0                              0   \n",
       "4                                 0                              0   \n",
       "...                             ...                            ...   \n",
       "8518                              0                              0   \n",
       "8519                              0                              0   \n",
       "8520                              0                              0   \n",
       "8521                              1                              0   \n",
       "8522                              0                              0   \n",
       "\n",
       "      Item_Visibility_bins_Low Viz  Item_Visibility_bins_Viz  \\\n",
       "0                                1                         0   \n",
       "1                                1                         0   \n",
       "2                                1                         0   \n",
       "3                                1                         0   \n",
       "4                                1                         0   \n",
       "...                            ...                       ...   \n",
       "8518                             1                         0   \n",
       "8519                             1                         0   \n",
       "8520                             1                         0   \n",
       "8521                             0                         0   \n",
       "8522                             1                         0   \n",
       "\n",
       "      Item_Visibility_bins_High Viz  \n",
       "0                                 0  \n",
       "1                                 0  \n",
       "2                                 0  \n",
       "3                                 0  \n",
       "4                                 0  \n",
       "...                             ...  \n",
       "8518                              0  \n",
       "8519                              0  \n",
       "8520                              0  \n",
       "8521                              1  \n",
       "8522                              0  \n",
       "\n",
       "[8379 rows x 19 columns]"
      ]
     },
     "execution_count": 64,
     "metadata": {},
     "output_type": "execute_result"
    }
   ],
   "source": [
    "final_train"
   ]
  },
  {
   "cell_type": "code",
   "execution_count": 65,
   "metadata": {},
   "outputs": [
    {
     "name": "stdout",
     "output_type": "stream",
     "text": [
      "<class 'pandas.core.frame.DataFrame'>\n",
      "Int64Index: 8379 entries, 0 to 8522\n",
      "Data columns (total 19 columns):\n",
      " #   Column                         Non-Null Count  Dtype  \n",
      "---  ------                         --------------  -----  \n",
      " 0   Item_Weight                    8379 non-null   float64\n",
      " 1   Item_MRP                       8379 non-null   float64\n",
      " 2   Item_Outlet_Sales              8379 non-null   float64\n",
      " 3   Age                            8379 non-null   int64  \n",
      " 4   Item_Fat_Content_Low Fat       8379 non-null   uint8  \n",
      " 5   Item_Fat_Content_Regular       8379 non-null   uint8  \n",
      " 6   Outlet_Size_High               8379 non-null   uint8  \n",
      " 7   Outlet_Size_Medium             8379 non-null   uint8  \n",
      " 8   Outlet_Size_Small              8379 non-null   uint8  \n",
      " 9   Outlet_Location_Type_Tier 1    8379 non-null   uint8  \n",
      " 10  Outlet_Location_Type_Tier 2    8379 non-null   uint8  \n",
      " 11  Outlet_Location_Type_Tier 3    8379 non-null   uint8  \n",
      " 12  Outlet_Type_Grocery Store      8379 non-null   uint8  \n",
      " 13  Outlet_Type_Supermarket Type1  8379 non-null   uint8  \n",
      " 14  Outlet_Type_Supermarket Type2  8379 non-null   uint8  \n",
      " 15  Outlet_Type_Supermarket Type3  8379 non-null   uint8  \n",
      " 16  Item_Visibility_bins_Low Viz   8379 non-null   uint8  \n",
      " 17  Item_Visibility_bins_Viz       8379 non-null   uint8  \n",
      " 18  Item_Visibility_bins_High Viz  8379 non-null   uint8  \n",
      "dtypes: float64(3), int64(1), uint8(15)\n",
      "memory usage: 450.0 KB\n"
     ]
    }
   ],
   "source": [
    "final_train.info()"
   ]
  },
  {
   "cell_type": "code",
   "execution_count": 66,
   "metadata": {
    "scrolled": false
   },
   "outputs": [
    {
     "data": {
      "text/plain": [
       "<AxesSubplot:>"
      ]
     },
     "execution_count": 66,
     "metadata": {},
     "output_type": "execute_result"
    },
    {
     "data": {
      "image/png": "[encoded data removed]",
      "text/plain": [
       "<Figure size 1080x864 with 2 Axes>"
      ]
     },
     "metadata": {
      "needs_background": "light"
     },
     "output_type": "display_data"
    }
   ],
   "source": [
    "import seaborn as sns\n",
    "\n",
    "plt.figure(figsize=(15,12))\n",
    "\n",
    "correlation = final_train.corr()\n",
    "\n",
    "sns.heatmap(correlation, cmap='bwr', annot=True)"
   ]
  },
  {
   "cell_type": "code",
   "execution_count": 67,
   "metadata": {
    "scrolled": true
   },
   "outputs": [
    {
     "data": {
      "text/html": [
       "<div>\n",
       "<style scoped>\n",
       "    .dataframe tbody tr th:only-of-type {\n",
       "        vertical-align: middle;\n",
       "    }\n",
       "\n",
       "    .dataframe tbody tr th {\n",
       "        vertical-align: top;\n",
       "    }\n",
       "\n",
       "    .dataframe thead th {\n",
       "        text-align: right;\n",
       "    }\n",
       "</style>\n",
       "<table border=\"1\" class=\"dataframe\">\n",
       "  <thead>\n",
       "    <tr style=\"text-align: right;\">\n",
       "      <th></th>\n",
       "      <th>Item_Weight</th>\n",
       "      <th>Item_MRP</th>\n",
       "      <th>Item_Outlet_Sales</th>\n",
       "      <th>Age</th>\n",
       "      <th>Item_Fat_Content_Low Fat</th>\n",
       "      <th>Item_Fat_Content_Regular</th>\n",
       "      <th>Outlet_Size_High</th>\n",
       "      <th>Outlet_Size_Medium</th>\n",
       "      <th>Outlet_Size_Small</th>\n",
       "      <th>Outlet_Location_Type_Tier 1</th>\n",
       "      <th>Outlet_Location_Type_Tier 2</th>\n",
       "      <th>Outlet_Location_Type_Tier 3</th>\n",
       "      <th>Outlet_Type_Grocery Store</th>\n",
       "      <th>Outlet_Type_Supermarket Type1</th>\n",
       "      <th>Outlet_Type_Supermarket Type2</th>\n",
       "      <th>Outlet_Type_Supermarket Type3</th>\n",
       "      <th>Item_Visibility_bins_Low Viz</th>\n",
       "      <th>Item_Visibility_bins_Viz</th>\n",
       "      <th>Item_Visibility_bins_High Viz</th>\n",
       "    </tr>\n",
       "  </thead>\n",
       "  <tbody>\n",
       "    <tr>\n",
       "      <th>Item_Weight</th>\n",
       "      <td>1.000000</td>\n",
       "      <td>0.026311</td>\n",
       "      <td>0.010205</td>\n",
       "      <td>0.008575</td>\n",
       "      <td>0.022684</td>\n",
       "      <td>-0.022684</td>\n",
       "      <td>0.011733</td>\n",
       "      <td>-0.006156</td>\n",
       "      <td>-0.001546</td>\n",
       "      <td>0.003605</td>\n",
       "      <td>-0.016048</td>\n",
       "      <td>0.012186</td>\n",
       "      <td>0.008403</td>\n",
       "      <td>-0.005228</td>\n",
       "      <td>0.000672</td>\n",
       "      <td>-0.001255</td>\n",
       "      <td>0.015712</td>\n",
       "      <td>-0.008767</td>\n",
       "      <td>-0.011977</td>\n",
       "    </tr>\n",
       "    <tr>\n",
       "      <th>Item_MRP</th>\n",
       "      <td>0.026311</td>\n",
       "      <td>1.000000</td>\n",
       "      <td>0.577367</td>\n",
       "      <td>-0.006896</td>\n",
       "      <td>-0.008048</td>\n",
       "      <td>0.008048</td>\n",
       "      <td>0.002599</td>\n",
       "      <td>-0.008736</td>\n",
       "      <td>0.007692</td>\n",
       "      <td>-0.003574</td>\n",
       "      <td>0.002252</td>\n",
       "      <td>0.001099</td>\n",
       "      <td>-0.005693</td>\n",
       "      <td>0.005560</td>\n",
       "      <td>0.004025</td>\n",
       "      <td>-0.006640</td>\n",
       "      <td>-0.022884</td>\n",
       "      <td>0.031707</td>\n",
       "      <td>-0.010818</td>\n",
       "    </tr>\n",
       "    <tr>\n",
       "      <th>Item_Outlet_Sales</th>\n",
       "      <td>0.010205</td>\n",
       "      <td>0.577367</td>\n",
       "      <td>1.000000</td>\n",
       "      <td>0.065382</td>\n",
       "      <td>-0.021670</td>\n",
       "      <td>0.021670</td>\n",
       "      <td>0.017882</td>\n",
       "      <td>0.071209</td>\n",
       "      <td>-0.090186</td>\n",
       "      <td>-0.103378</td>\n",
       "      <td>0.046018</td>\n",
       "      <td>0.050239</td>\n",
       "      <td>-0.390714</td>\n",
       "      <td>0.085544</td>\n",
       "      <td>-0.045038</td>\n",
       "      <td>0.308155</td>\n",
       "      <td>0.032108</td>\n",
       "      <td>0.013811</td>\n",
       "      <td>-0.071820</td>\n",
       "    </tr>\n",
       "    <tr>\n",
       "      <th>Age</th>\n",
       "      <td>0.008575</td>\n",
       "      <td>-0.006896</td>\n",
       "      <td>0.065382</td>\n",
       "      <td>1.000000</td>\n",
       "      <td>0.003918</td>\n",
       "      <td>-0.003918</td>\n",
       "      <td>0.463746</td>\n",
       "      <td>-0.331450</td>\n",
       "      <td>0.034974</td>\n",
       "      <td>0.183650</td>\n",
       "      <td>-0.539153</td>\n",
       "      <td>0.352141</td>\n",
       "      <td>0.263397</td>\n",
       "      <td>-0.232177</td>\n",
       "      <td>-0.466983</td>\n",
       "      <td>0.549453</td>\n",
       "      <td>-0.019777</td>\n",
       "      <td>-0.002664</td>\n",
       "      <td>0.035517</td>\n",
       "    </tr>\n",
       "    <tr>\n",
       "      <th>Item_Fat_Content_Low Fat</th>\n",
       "      <td>0.022684</td>\n",
       "      <td>-0.008048</td>\n",
       "      <td>-0.021670</td>\n",
       "      <td>0.003918</td>\n",
       "      <td>1.000000</td>\n",
       "      <td>-1.000000</td>\n",
       "      <td>0.001428</td>\n",
       "      <td>-0.002876</td>\n",
       "      <td>0.002130</td>\n",
       "      <td>-0.003463</td>\n",
       "      <td>0.001867</td>\n",
       "      <td>0.001368</td>\n",
       "      <td>0.008920</td>\n",
       "      <td>-0.003443</td>\n",
       "      <td>-0.002876</td>\n",
       "      <td>-0.000912</td>\n",
       "      <td>0.041436</td>\n",
       "      <td>-0.020990</td>\n",
       "      <td>-0.034765</td>\n",
       "    </tr>\n",
       "    <tr>\n",
       "      <th>Item_Fat_Content_Regular</th>\n",
       "      <td>-0.022684</td>\n",
       "      <td>0.008048</td>\n",
       "      <td>0.021670</td>\n",
       "      <td>-0.003918</td>\n",
       "      <td>-1.000000</td>\n",
       "      <td>1.000000</td>\n",
       "      <td>-0.001428</td>\n",
       "      <td>0.002876</td>\n",
       "      <td>-0.002130</td>\n",
       "      <td>0.003463</td>\n",
       "      <td>-0.001867</td>\n",
       "      <td>-0.001368</td>\n",
       "      <td>-0.008920</td>\n",
       "      <td>0.003443</td>\n",
       "      <td>0.002876</td>\n",
       "      <td>0.000912</td>\n",
       "      <td>-0.041436</td>\n",
       "      <td>0.020990</td>\n",
       "      <td>0.034765</td>\n",
       "    </tr>\n",
       "    <tr>\n",
       "      <th>Outlet_Size_High</th>\n",
       "      <td>0.011733</td>\n",
       "      <td>0.002599</td>\n",
       "      <td>0.017882</td>\n",
       "      <td>0.463746</td>\n",
       "      <td>0.001428</td>\n",
       "      <td>-0.001428</td>\n",
       "      <td>1.000000</td>\n",
       "      <td>-0.445201</td>\n",
       "      <td>-0.218320</td>\n",
       "      <td>-0.218320</td>\n",
       "      <td>-0.249614</td>\n",
       "      <td>0.440754</td>\n",
       "      <td>-0.125679</td>\n",
       "      <td>0.250756</td>\n",
       "      <td>-0.124849</td>\n",
       "      <td>-0.125378</td>\n",
       "      <td>0.020628</td>\n",
       "      <td>-0.010235</td>\n",
       "      <td>-0.017626</td>\n",
       "    </tr>\n",
       "    <tr>\n",
       "      <th>Outlet_Size_Medium</th>\n",
       "      <td>-0.006156</td>\n",
       "      <td>-0.008736</td>\n",
       "      <td>0.071209</td>\n",
       "      <td>-0.331450</td>\n",
       "      <td>-0.002876</td>\n",
       "      <td>0.002876</td>\n",
       "      <td>-0.445201</td>\n",
       "      <td>1.000000</td>\n",
       "      <td>-0.776634</td>\n",
       "      <td>-0.266756</td>\n",
       "      <td>0.076933</td>\n",
       "      <td>0.169983</td>\n",
       "      <td>-0.068021</td>\n",
       "      <td>-0.329008</td>\n",
       "      <td>0.280432</td>\n",
       "      <td>0.281620</td>\n",
       "      <td>0.011807</td>\n",
       "      <td>-0.005503</td>\n",
       "      <td>-0.010620</td>\n",
       "    </tr>\n",
       "    <tr>\n",
       "      <th>Outlet_Size_Small</th>\n",
       "      <td>-0.001546</td>\n",
       "      <td>0.007692</td>\n",
       "      <td>-0.090186</td>\n",
       "      <td>0.034974</td>\n",
       "      <td>0.002130</td>\n",
       "      <td>-0.002130</td>\n",
       "      <td>-0.218320</td>\n",
       "      <td>-0.776634</td>\n",
       "      <td>1.000000</td>\n",
       "      <td>0.444314</td>\n",
       "      <td>0.091764</td>\n",
       "      <td>-0.495334</td>\n",
       "      <td>0.162550</td>\n",
       "      <td>0.182155</td>\n",
       "      <td>-0.217793</td>\n",
       "      <td>-0.218716</td>\n",
       "      <td>-0.027380</td>\n",
       "      <td>0.013198</td>\n",
       "      <td>0.023974</td>\n",
       "    </tr>\n",
       "    <tr>\n",
       "      <th>Outlet_Location_Type_Tier 1</th>\n",
       "      <td>0.003605</td>\n",
       "      <td>-0.003574</td>\n",
       "      <td>-0.103378</td>\n",
       "      <td>0.183650</td>\n",
       "      <td>-0.003463</td>\n",
       "      <td>0.003463</td>\n",
       "      <td>-0.218320</td>\n",
       "      <td>-0.266756</td>\n",
       "      <td>0.444314</td>\n",
       "      <td>1.000000</td>\n",
       "      <td>-0.435440</td>\n",
       "      <td>-0.495334</td>\n",
       "      <td>0.162550</td>\n",
       "      <td>0.182155</td>\n",
       "      <td>-0.217793</td>\n",
       "      <td>-0.218716</td>\n",
       "      <td>-0.019241</td>\n",
       "      <td>0.000439</td>\n",
       "      <td>0.030032</td>\n",
       "    </tr>\n",
       "    <tr>\n",
       "      <th>Outlet_Location_Type_Tier 2</th>\n",
       "      <td>-0.016048</td>\n",
       "      <td>0.002252</td>\n",
       "      <td>0.046018</td>\n",
       "      <td>-0.539153</td>\n",
       "      <td>0.001867</td>\n",
       "      <td>-0.001867</td>\n",
       "      <td>-0.249614</td>\n",
       "      <td>0.076933</td>\n",
       "      <td>0.091764</td>\n",
       "      <td>-0.435440</td>\n",
       "      <td>1.000000</td>\n",
       "      <td>-0.566333</td>\n",
       "      <td>-0.250667</td>\n",
       "      <td>0.500133</td>\n",
       "      <td>-0.249011</td>\n",
       "      <td>-0.250066</td>\n",
       "      <td>0.019411</td>\n",
       "      <td>0.006112</td>\n",
       "      <td>-0.040079</td>\n",
       "    </tr>\n",
       "    <tr>\n",
       "      <th>Outlet_Location_Type_Tier 3</th>\n",
       "      <td>0.012186</td>\n",
       "      <td>0.001099</td>\n",
       "      <td>0.050239</td>\n",
       "      <td>0.352141</td>\n",
       "      <td>0.001368</td>\n",
       "      <td>-0.001368</td>\n",
       "      <td>0.440754</td>\n",
       "      <td>0.169983</td>\n",
       "      <td>-0.495334</td>\n",
       "      <td>-0.495334</td>\n",
       "      <td>-0.566333</td>\n",
       "      <td>1.000000</td>\n",
       "      <td>0.093072</td>\n",
       "      <td>-0.649393</td>\n",
       "      <td>0.439689</td>\n",
       "      <td>0.441552</td>\n",
       "      <td>-0.001116</td>\n",
       "      <td>-0.006300</td>\n",
       "      <td>0.011180</td>\n",
       "    </tr>\n",
       "    <tr>\n",
       "      <th>Outlet_Type_Grocery Store</th>\n",
       "      <td>0.008403</td>\n",
       "      <td>-0.005693</td>\n",
       "      <td>-0.390714</td>\n",
       "      <td>0.263397</td>\n",
       "      <td>0.008920</td>\n",
       "      <td>-0.008920</td>\n",
       "      <td>-0.125679</td>\n",
       "      <td>-0.068021</td>\n",
       "      <td>0.162550</td>\n",
       "      <td>0.162550</td>\n",
       "      <td>-0.250667</td>\n",
       "      <td>0.093072</td>\n",
       "      <td>1.000000</td>\n",
       "      <td>-0.501202</td>\n",
       "      <td>-0.125376</td>\n",
       "      <td>-0.125907</td>\n",
       "      <td>-0.107142</td>\n",
       "      <td>0.013514</td>\n",
       "      <td>0.150717</td>\n",
       "    </tr>\n",
       "    <tr>\n",
       "      <th>Outlet_Type_Supermarket Type1</th>\n",
       "      <td>-0.005228</td>\n",
       "      <td>0.005560</td>\n",
       "      <td>0.085544</td>\n",
       "      <td>-0.232177</td>\n",
       "      <td>-0.003443</td>\n",
       "      <td>0.003443</td>\n",
       "      <td>0.250756</td>\n",
       "      <td>-0.329008</td>\n",
       "      <td>0.182155</td>\n",
       "      <td>0.182155</td>\n",
       "      <td>0.500133</td>\n",
       "      <td>-0.649393</td>\n",
       "      <td>-0.501202</td>\n",
       "      <td>1.000000</td>\n",
       "      <td>-0.497889</td>\n",
       "      <td>-0.499999</td>\n",
       "      <td>0.053094</td>\n",
       "      <td>-0.005450</td>\n",
       "      <td>-0.076548</td>\n",
       "    </tr>\n",
       "    <tr>\n",
       "      <th>Outlet_Type_Supermarket Type2</th>\n",
       "      <td>0.000672</td>\n",
       "      <td>0.004025</td>\n",
       "      <td>-0.045038</td>\n",
       "      <td>-0.466983</td>\n",
       "      <td>-0.002876</td>\n",
       "      <td>0.002876</td>\n",
       "      <td>-0.124849</td>\n",
       "      <td>0.280432</td>\n",
       "      <td>-0.217793</td>\n",
       "      <td>-0.217793</td>\n",
       "      <td>-0.249011</td>\n",
       "      <td>0.439689</td>\n",
       "      <td>-0.125376</td>\n",
       "      <td>-0.497889</td>\n",
       "      <td>1.000000</td>\n",
       "      <td>-0.125075</td>\n",
       "      <td>0.007803</td>\n",
       "      <td>-0.002639</td>\n",
       "      <td>-0.008507</td>\n",
       "    </tr>\n",
       "    <tr>\n",
       "      <th>Outlet_Type_Supermarket Type3</th>\n",
       "      <td>-0.001255</td>\n",
       "      <td>-0.006640</td>\n",
       "      <td>0.308155</td>\n",
       "      <td>0.549453</td>\n",
       "      <td>-0.000912</td>\n",
       "      <td>0.000912</td>\n",
       "      <td>-0.125378</td>\n",
       "      <td>0.281620</td>\n",
       "      <td>-0.218716</td>\n",
       "      <td>-0.218716</td>\n",
       "      <td>-0.250066</td>\n",
       "      <td>0.441552</td>\n",
       "      <td>-0.125907</td>\n",
       "      <td>-0.499999</td>\n",
       "      <td>-0.125075</td>\n",
       "      <td>1.000000</td>\n",
       "      <td>0.020010</td>\n",
       "      <td>-0.002743</td>\n",
       "      <td>-0.027821</td>\n",
       "    </tr>\n",
       "    <tr>\n",
       "      <th>Item_Visibility_bins_Low Viz</th>\n",
       "      <td>0.015712</td>\n",
       "      <td>-0.022884</td>\n",
       "      <td>0.032108</td>\n",
       "      <td>-0.019777</td>\n",
       "      <td>0.041436</td>\n",
       "      <td>-0.041436</td>\n",
       "      <td>0.020628</td>\n",
       "      <td>0.011807</td>\n",
       "      <td>-0.027380</td>\n",
       "      <td>-0.019241</td>\n",
       "      <td>0.019411</td>\n",
       "      <td>-0.001116</td>\n",
       "      <td>-0.107142</td>\n",
       "      <td>0.053094</td>\n",
       "      <td>0.007803</td>\n",
       "      <td>0.020010</td>\n",
       "      <td>1.000000</td>\n",
       "      <td>-0.792135</td>\n",
       "      <td>-0.412829</td>\n",
       "    </tr>\n",
       "    <tr>\n",
       "      <th>Item_Visibility_bins_Viz</th>\n",
       "      <td>-0.008767</td>\n",
       "      <td>0.031707</td>\n",
       "      <td>0.013811</td>\n",
       "      <td>-0.002664</td>\n",
       "      <td>-0.020990</td>\n",
       "      <td>0.020990</td>\n",
       "      <td>-0.010235</td>\n",
       "      <td>-0.005503</td>\n",
       "      <td>0.013198</td>\n",
       "      <td>0.000439</td>\n",
       "      <td>0.006112</td>\n",
       "      <td>-0.006300</td>\n",
       "      <td>0.013514</td>\n",
       "      <td>-0.005450</td>\n",
       "      <td>-0.002639</td>\n",
       "      <td>-0.002743</td>\n",
       "      <td>-0.792135</td>\n",
       "      <td>1.000000</td>\n",
       "      <td>-0.228892</td>\n",
       "    </tr>\n",
       "    <tr>\n",
       "      <th>Item_Visibility_bins_High Viz</th>\n",
       "      <td>-0.011977</td>\n",
       "      <td>-0.010818</td>\n",
       "      <td>-0.071820</td>\n",
       "      <td>0.035517</td>\n",
       "      <td>-0.034765</td>\n",
       "      <td>0.034765</td>\n",
       "      <td>-0.017626</td>\n",
       "      <td>-0.010620</td>\n",
       "      <td>0.023974</td>\n",
       "      <td>0.030032</td>\n",
       "      <td>-0.040079</td>\n",
       "      <td>0.011180</td>\n",
       "      <td>0.150717</td>\n",
       "      <td>-0.076548</td>\n",
       "      <td>-0.008507</td>\n",
       "      <td>-0.027821</td>\n",
       "      <td>-0.412829</td>\n",
       "      <td>-0.228892</td>\n",
       "      <td>1.000000</td>\n",
       "    </tr>\n",
       "  </tbody>\n",
       "</table>\n",
       "</div>"
      ],
      "text/plain": [
       "                               Item_Weight  Item_MRP  Item_Outlet_Sales  \\\n",
       "Item_Weight                       1.000000  0.026311           0.010205   \n",
       "Item_MRP                          0.026311  1.000000           0.577367   \n",
       "Item_Outlet_Sales                 0.010205  0.577367           1.000000   \n",
       "Age                               0.008575 -0.006896           0.065382   \n",
       "Item_Fat_Content_Low Fat          0.022684 -0.008048          -0.021670   \n",
       "Item_Fat_Content_Regular         -0.022684  0.008048           0.021670   \n",
       "Outlet_Size_High                  0.011733  0.002599           0.017882   \n",
       "Outlet_Size_Medium               -0.006156 -0.008736           0.071209   \n",
       "Outlet_Size_Small                -0.001546  0.007692          -0.090186   \n",
       "Outlet_Location_Type_Tier 1       0.003605 -0.003574          -0.103378   \n",
       "Outlet_Location_Type_Tier 2      -0.016048  0.002252           0.046018   \n",
       "Outlet_Location_Type_Tier 3       0.012186  0.001099           0.050239   \n",
       "Outlet_Type_Grocery Store         0.008403 -0.005693          -0.390714   \n",
       "Outlet_Type_Supermarket Type1    -0.005228  0.005560           0.085544   \n",
       "Outlet_Type_Supermarket Type2     0.000672  0.004025          -0.045038   \n",
       "Outlet_Type_Supermarket Type3    -0.001255 -0.006640           0.308155   \n",
       "Item_Visibility_bins_Low Viz      0.015712 -0.022884           0.032108   \n",
       "Item_Visibility_bins_Viz         -0.008767  0.031707           0.013811   \n",
       "Item_Visibility_bins_High Viz    -0.011977 -0.010818          -0.071820   \n",
       "\n",
       "                                    Age  Item_Fat_Content_Low Fat  \\\n",
       "Item_Weight                    0.008575                  0.022684   \n",
       "Item_MRP                      -0.006896                 -0.008048   \n",
       "Item_Outlet_Sales              0.065382                 -0.021670   \n",
       "Age                            1.000000                  0.003918   \n",
       "Item_Fat_Content_Low Fat       0.003918                  1.000000   \n",
       "Item_Fat_Content_Regular      -0.003918                 -1.000000   \n",
       "Outlet_Size_High               0.463746                  0.001428   \n",
       "Outlet_Size_Medium            -0.331450                 -0.002876   \n",
       "Outlet_Size_Small              0.034974                  0.002130   \n",
       "Outlet_Location_Type_Tier 1    0.183650                 -0.003463   \n",
       "Outlet_Location_Type_Tier 2   -0.539153                  0.001867   \n",
       "Outlet_Location_Type_Tier 3    0.352141                  0.001368   \n",
       "Outlet_Type_Grocery Store      0.263397                  0.008920   \n",
       "Outlet_Type_Supermarket Type1 -0.232177                 -0.003443   \n",
       "Outlet_Type_Supermarket Type2 -0.466983                 -0.002876   \n",
       "Outlet_Type_Supermarket Type3  0.549453                 -0.000912   \n",
       "Item_Visibility_bins_Low Viz  -0.019777                  0.041436   \n",
       "Item_Visibility_bins_Viz      -0.002664                 -0.020990   \n",
       "Item_Visibility_bins_High Viz  0.035517                 -0.034765   \n",
       "\n",
       "                               Item_Fat_Content_Regular  Outlet_Size_High  \\\n",
       "Item_Weight                                   -0.022684          0.011733   \n",
       "Item_MRP                                       0.008048          0.002599   \n",
       "Item_Outlet_Sales                              0.021670          0.017882   \n",
       "Age                                           -0.003918          0.463746   \n",
       "Item_Fat_Content_Low Fat                      -1.000000          0.001428   \n",
       "Item_Fat_Content_Regular                       1.000000         -0.001428   \n",
       "Outlet_Size_High                              -0.001428          1.000000   \n",
       "Outlet_Size_Medium                             0.002876         -0.445201   \n",
       "Outlet_Size_Small                             -0.002130         -0.218320   \n",
       "Outlet_Location_Type_Tier 1                    0.003463         -0.218320   \n",
       "Outlet_Location_Type_Tier 2                   -0.001867         -0.249614   \n",
       "Outlet_Location_Type_Tier 3                   -0.001368          0.440754   \n",
       "Outlet_Type_Grocery Store                     -0.008920         -0.125679   \n",
       "Outlet_Type_Supermarket Type1                  0.003443          0.250756   \n",
       "Outlet_Type_Supermarket Type2                  0.002876         -0.124849   \n",
       "Outlet_Type_Supermarket Type3                  0.000912         -0.125378   \n",
       "Item_Visibility_bins_Low Viz                  -0.041436          0.020628   \n",
       "Item_Visibility_bins_Viz                       0.020990         -0.010235   \n",
       "Item_Visibility_bins_High Viz                  0.034765         -0.017626   \n",
       "\n",
       "                               Outlet_Size_Medium  Outlet_Size_Small  \\\n",
       "Item_Weight                             -0.006156          -0.001546   \n",
       "Item_MRP                                -0.008736           0.007692   \n",
       "Item_Outlet_Sales                        0.071209          -0.090186   \n",
       "Age                                     -0.331450           0.034974   \n",
       "Item_Fat_Content_Low Fat                -0.002876           0.002130   \n",
       "Item_Fat_Content_Regular                 0.002876          -0.002130   \n",
       "Outlet_Size_High                        -0.445201          -0.218320   \n",
       "Outlet_Size_Medium                       1.000000          -0.776634   \n",
       "Outlet_Size_Small                       -0.776634           1.000000   \n",
       "Outlet_Location_Type_Tier 1             -0.266756           0.444314   \n",
       "Outlet_Location_Type_Tier 2              0.076933           0.091764   \n",
       "Outlet_Location_Type_Tier 3              0.169983          -0.495334   \n",
       "Outlet_Type_Grocery Store               -0.068021           0.162550   \n",
       "Outlet_Type_Supermarket Type1           -0.329008           0.182155   \n",
       "Outlet_Type_Supermarket Type2            0.280432          -0.217793   \n",
       "Outlet_Type_Supermarket Type3            0.281620          -0.218716   \n",
       "Item_Visibility_bins_Low Viz             0.011807          -0.027380   \n",
       "Item_Visibility_bins_Viz                -0.005503           0.013198   \n",
       "Item_Visibility_bins_High Viz           -0.010620           0.023974   \n",
       "\n",
       "                               Outlet_Location_Type_Tier 1  \\\n",
       "Item_Weight                                       0.003605   \n",
       "Item_MRP                                         -0.003574   \n",
       "Item_Outlet_Sales                                -0.103378   \n",
       "Age                                               0.183650   \n",
       "Item_Fat_Content_Low Fat                         -0.003463   \n",
       "Item_Fat_Content_Regular                          0.003463   \n",
       "Outlet_Size_High                                 -0.218320   \n",
       "Outlet_Size_Medium                               -0.266756   \n",
       "Outlet_Size_Small                                 0.444314   \n",
       "Outlet_Location_Type_Tier 1                       1.000000   \n",
       "Outlet_Location_Type_Tier 2                      -0.435440   \n",
       "Outlet_Location_Type_Tier 3                      -0.495334   \n",
       "Outlet_Type_Grocery Store                         0.162550   \n",
       "Outlet_Type_Supermarket Type1                     0.182155   \n",
       "Outlet_Type_Supermarket Type2                    -0.217793   \n",
       "Outlet_Type_Supermarket Type3                    -0.218716   \n",
       "Item_Visibility_bins_Low Viz                     -0.019241   \n",
       "Item_Visibility_bins_Viz                          0.000439   \n",
       "Item_Visibility_bins_High Viz                     0.030032   \n",
       "\n",
       "                               Outlet_Location_Type_Tier 2  \\\n",
       "Item_Weight                                      -0.016048   \n",
       "Item_MRP                                          0.002252   \n",
       "Item_Outlet_Sales                                 0.046018   \n",
       "Age                                              -0.539153   \n",
       "Item_Fat_Content_Low Fat                          0.001867   \n",
       "Item_Fat_Content_Regular                         -0.001867   \n",
       "Outlet_Size_High                                 -0.249614   \n",
       "Outlet_Size_Medium                                0.076933   \n",
       "Outlet_Size_Small                                 0.091764   \n",
       "Outlet_Location_Type_Tier 1                      -0.435440   \n",
       "Outlet_Location_Type_Tier 2                       1.000000   \n",
       "Outlet_Location_Type_Tier 3                      -0.566333   \n",
       "Outlet_Type_Grocery Store                        -0.250667   \n",
       "Outlet_Type_Supermarket Type1                     0.500133   \n",
       "Outlet_Type_Supermarket Type2                    -0.249011   \n",
       "Outlet_Type_Supermarket Type3                    -0.250066   \n",
       "Item_Visibility_bins_Low Viz                      0.019411   \n",
       "Item_Visibility_bins_Viz                          0.006112   \n",
       "Item_Visibility_bins_High Viz                    -0.040079   \n",
       "\n",
       "                               Outlet_Location_Type_Tier 3  \\\n",
       "Item_Weight                                       0.012186   \n",
       "Item_MRP                                          0.001099   \n",
       "Item_Outlet_Sales                                 0.050239   \n",
       "Age                                               0.352141   \n",
       "Item_Fat_Content_Low Fat                          0.001368   \n",
       "Item_Fat_Content_Regular                         -0.001368   \n",
       "Outlet_Size_High                                  0.440754   \n",
       "Outlet_Size_Medium                                0.169983   \n",
       "Outlet_Size_Small                                -0.495334   \n",
       "Outlet_Location_Type_Tier 1                      -0.495334   \n",
       "Outlet_Location_Type_Tier 2                      -0.566333   \n",
       "Outlet_Location_Type_Tier 3                       1.000000   \n",
       "Outlet_Type_Grocery Store                         0.093072   \n",
       "Outlet_Type_Supermarket Type1                    -0.649393   \n",
       "Outlet_Type_Supermarket Type2                     0.439689   \n",
       "Outlet_Type_Supermarket Type3                     0.441552   \n",
       "Item_Visibility_bins_Low Viz                     -0.001116   \n",
       "Item_Visibility_bins_Viz                         -0.006300   \n",
       "Item_Visibility_bins_High Viz                     0.011180   \n",
       "\n",
       "                               Outlet_Type_Grocery Store  \\\n",
       "Item_Weight                                     0.008403   \n",
       "Item_MRP                                       -0.005693   \n",
       "Item_Outlet_Sales                              -0.390714   \n",
       "Age                                             0.263397   \n",
       "Item_Fat_Content_Low Fat                        0.008920   \n",
       "Item_Fat_Content_Regular                       -0.008920   \n",
       "Outlet_Size_High                               -0.125679   \n",
       "Outlet_Size_Medium                             -0.068021   \n",
       "Outlet_Size_Small                               0.162550   \n",
       "Outlet_Location_Type_Tier 1                     0.162550   \n",
       "Outlet_Location_Type_Tier 2                    -0.250667   \n",
       "Outlet_Location_Type_Tier 3                     0.093072   \n",
       "Outlet_Type_Grocery Store                       1.000000   \n",
       "Outlet_Type_Supermarket Type1                  -0.501202   \n",
       "Outlet_Type_Supermarket Type2                  -0.125376   \n",
       "Outlet_Type_Supermarket Type3                  -0.125907   \n",
       "Item_Visibility_bins_Low Viz                   -0.107142   \n",
       "Item_Visibility_bins_Viz                        0.013514   \n",
       "Item_Visibility_bins_High Viz                   0.150717   \n",
       "\n",
       "                               Outlet_Type_Supermarket Type1  \\\n",
       "Item_Weight                                        -0.005228   \n",
       "Item_MRP                                            0.005560   \n",
       "Item_Outlet_Sales                                   0.085544   \n",
       "Age                                                -0.232177   \n",
       "Item_Fat_Content_Low Fat                           -0.003443   \n",
       "Item_Fat_Content_Regular                            0.003443   \n",
       "Outlet_Size_High                                    0.250756   \n",
       "Outlet_Size_Medium                                 -0.329008   \n",
       "Outlet_Size_Small                                   0.182155   \n",
       "Outlet_Location_Type_Tier 1                         0.182155   \n",
       "Outlet_Location_Type_Tier 2                         0.500133   \n",
       "Outlet_Location_Type_Tier 3                        -0.649393   \n",
       "Outlet_Type_Grocery Store                          -0.501202   \n",
       "Outlet_Type_Supermarket Type1                       1.000000   \n",
       "Outlet_Type_Supermarket Type2                      -0.497889   \n",
       "Outlet_Type_Supermarket Type3                      -0.499999   \n",
       "Item_Visibility_bins_Low Viz                        0.053094   \n",
       "Item_Visibility_bins_Viz                           -0.005450   \n",
       "Item_Visibility_bins_High Viz                      -0.076548   \n",
       "\n",
       "                               Outlet_Type_Supermarket Type2  \\\n",
       "Item_Weight                                         0.000672   \n",
       "Item_MRP                                            0.004025   \n",
       "Item_Outlet_Sales                                  -0.045038   \n",
       "Age                                                -0.466983   \n",
       "Item_Fat_Content_Low Fat                           -0.002876   \n",
       "Item_Fat_Content_Regular                            0.002876   \n",
       "Outlet_Size_High                                   -0.124849   \n",
       "Outlet_Size_Medium                                  0.280432   \n",
       "Outlet_Size_Small                                  -0.217793   \n",
       "Outlet_Location_Type_Tier 1                        -0.217793   \n",
       "Outlet_Location_Type_Tier 2                        -0.249011   \n",
       "Outlet_Location_Type_Tier 3                         0.439689   \n",
       "Outlet_Type_Grocery Store                          -0.125376   \n",
       "Outlet_Type_Supermarket Type1                      -0.497889   \n",
       "Outlet_Type_Supermarket Type2                       1.000000   \n",
       "Outlet_Type_Supermarket Type3                      -0.125075   \n",
       "Item_Visibility_bins_Low Viz                        0.007803   \n",
       "Item_Visibility_bins_Viz                           -0.002639   \n",
       "Item_Visibility_bins_High Viz                      -0.008507   \n",
       "\n",
       "                               Outlet_Type_Supermarket Type3  \\\n",
       "Item_Weight                                        -0.001255   \n",
       "Item_MRP                                           -0.006640   \n",
       "Item_Outlet_Sales                                   0.308155   \n",
       "Age                                                 0.549453   \n",
       "Item_Fat_Content_Low Fat                           -0.000912   \n",
       "Item_Fat_Content_Regular                            0.000912   \n",
       "Outlet_Size_High                                   -0.125378   \n",
       "Outlet_Size_Medium                                  0.281620   \n",
       "Outlet_Size_Small                                  -0.218716   \n",
       "Outlet_Location_Type_Tier 1                        -0.218716   \n",
       "Outlet_Location_Type_Tier 2                        -0.250066   \n",
       "Outlet_Location_Type_Tier 3                         0.441552   \n",
       "Outlet_Type_Grocery Store                          -0.125907   \n",
       "Outlet_Type_Supermarket Type1                      -0.499999   \n",
       "Outlet_Type_Supermarket Type2                      -0.125075   \n",
       "Outlet_Type_Supermarket Type3                       1.000000   \n",
       "Item_Visibility_bins_Low Viz                        0.020010   \n",
       "Item_Visibility_bins_Viz                           -0.002743   \n",
       "Item_Visibility_bins_High Viz                      -0.027821   \n",
       "\n",
       "                               Item_Visibility_bins_Low Viz  \\\n",
       "Item_Weight                                        0.015712   \n",
       "Item_MRP                                          -0.022884   \n",
       "Item_Outlet_Sales                                  0.032108   \n",
       "Age                                               -0.019777   \n",
       "Item_Fat_Content_Low Fat                           0.041436   \n",
       "Item_Fat_Content_Regular                          -0.041436   \n",
       "Outlet_Size_High                                   0.020628   \n",
       "Outlet_Size_Medium                                 0.011807   \n",
       "Outlet_Size_Small                                 -0.027380   \n",
       "Outlet_Location_Type_Tier 1                       -0.019241   \n",
       "Outlet_Location_Type_Tier 2                        0.019411   \n",
       "Outlet_Location_Type_Tier 3                       -0.001116   \n",
       "Outlet_Type_Grocery Store                         -0.107142   \n",
       "Outlet_Type_Supermarket Type1                      0.053094   \n",
       "Outlet_Type_Supermarket Type2                      0.007803   \n",
       "Outlet_Type_Supermarket Type3                      0.020010   \n",
       "Item_Visibility_bins_Low Viz                       1.000000   \n",
       "Item_Visibility_bins_Viz                          -0.792135   \n",
       "Item_Visibility_bins_High Viz                     -0.412829   \n",
       "\n",
       "                               Item_Visibility_bins_Viz  \\\n",
       "Item_Weight                                   -0.008767   \n",
       "Item_MRP                                       0.031707   \n",
       "Item_Outlet_Sales                              0.013811   \n",
       "Age                                           -0.002664   \n",
       "Item_Fat_Content_Low Fat                      -0.020990   \n",
       "Item_Fat_Content_Regular                       0.020990   \n",
       "Outlet_Size_High                              -0.010235   \n",
       "Outlet_Size_Medium                            -0.005503   \n",
       "Outlet_Size_Small                              0.013198   \n",
       "Outlet_Location_Type_Tier 1                    0.000439   \n",
       "Outlet_Location_Type_Tier 2                    0.006112   \n",
       "Outlet_Location_Type_Tier 3                   -0.006300   \n",
       "Outlet_Type_Grocery Store                      0.013514   \n",
       "Outlet_Type_Supermarket Type1                 -0.005450   \n",
       "Outlet_Type_Supermarket Type2                 -0.002639   \n",
       "Outlet_Type_Supermarket Type3                 -0.002743   \n",
       "Item_Visibility_bins_Low Viz                  -0.792135   \n",
       "Item_Visibility_bins_Viz                       1.000000   \n",
       "Item_Visibility_bins_High Viz                 -0.228892   \n",
       "\n",
       "                               Item_Visibility_bins_High Viz  \n",
       "Item_Weight                                        -0.011977  \n",
       "Item_MRP                                           -0.010818  \n",
       "Item_Outlet_Sales                                  -0.071820  \n",
       "Age                                                 0.035517  \n",
       "Item_Fat_Content_Low Fat                           -0.034765  \n",
       "Item_Fat_Content_Regular                            0.034765  \n",
       "Outlet_Size_High                                   -0.017626  \n",
       "Outlet_Size_Medium                                 -0.010620  \n",
       "Outlet_Size_Small                                   0.023974  \n",
       "Outlet_Location_Type_Tier 1                         0.030032  \n",
       "Outlet_Location_Type_Tier 2                        -0.040079  \n",
       "Outlet_Location_Type_Tier 3                         0.011180  \n",
       "Outlet_Type_Grocery Store                           0.150717  \n",
       "Outlet_Type_Supermarket Type1                      -0.076548  \n",
       "Outlet_Type_Supermarket Type2                      -0.008507  \n",
       "Outlet_Type_Supermarket Type3                      -0.027821  \n",
       "Item_Visibility_bins_Low Viz                       -0.412829  \n",
       "Item_Visibility_bins_Viz                           -0.228892  \n",
       "Item_Visibility_bins_High Viz                       1.000000  "
      ]
     },
     "execution_count": 67,
     "metadata": {},
     "output_type": "execute_result"
    }
   ],
   "source": [
    "correlation"
   ]
  },
  {
   "cell_type": "code",
   "execution_count": 68,
   "metadata": {},
   "outputs": [],
   "source": [
    "X = final_train.drop('Item_Outlet_Sales', axis=1)\n",
    "y = final_train['Item_Outlet_Sales']"
   ]
  },
  {
   "cell_type": "code",
   "execution_count": 69,
   "metadata": {},
   "outputs": [
    {
     "data": {
      "text/plain": [
       "((8379, 18), (8379,))"
      ]
     },
     "execution_count": 69,
     "metadata": {},
     "output_type": "execute_result"
    }
   ],
   "source": [
    "X.shape, y.shape"
   ]
  },
  {
   "cell_type": "code",
   "execution_count": 76,
   "metadata": {},
   "outputs": [
    {
     "data": {
      "text/html": [
       "<div>\n",
       "<style scoped>\n",
       "    .dataframe tbody tr th:only-of-type {\n",
       "        vertical-align: middle;\n",
       "    }\n",
       "\n",
       "    .dataframe tbody tr th {\n",
       "        vertical-align: top;\n",
       "    }\n",
       "\n",
       "    .dataframe thead th {\n",
       "        text-align: right;\n",
       "    }\n",
       "</style>\n",
       "<table border=\"1\" class=\"dataframe\">\n",
       "  <thead>\n",
       "    <tr style=\"text-align: right;\">\n",
       "      <th></th>\n",
       "      <th>Item_Weight</th>\n",
       "      <th>Item_MRP</th>\n",
       "      <th>Item_Outlet_Sales</th>\n",
       "      <th>Age</th>\n",
       "      <th>Item_Fat_Content_Low Fat</th>\n",
       "      <th>Item_Fat_Content_Regular</th>\n",
       "      <th>Outlet_Size_High</th>\n",
       "      <th>Outlet_Size_Medium</th>\n",
       "      <th>Outlet_Size_Small</th>\n",
       "      <th>Outlet_Location_Type_Tier 1</th>\n",
       "      <th>Outlet_Location_Type_Tier 2</th>\n",
       "      <th>Outlet_Location_Type_Tier 3</th>\n",
       "      <th>Outlet_Type_Grocery Store</th>\n",
       "      <th>Outlet_Type_Supermarket Type1</th>\n",
       "      <th>Outlet_Type_Supermarket Type2</th>\n",
       "      <th>Outlet_Type_Supermarket Type3</th>\n",
       "      <th>Item_Visibility_bins_Low Viz</th>\n",
       "      <th>Item_Visibility_bins_Viz</th>\n",
       "      <th>Item_Visibility_bins_High Viz</th>\n",
       "    </tr>\n",
       "  </thead>\n",
       "  <tbody>\n",
       "    <tr>\n",
       "      <th>0</th>\n",
       "      <td>9.300</td>\n",
       "      <td>249.8092</td>\n",
       "      <td>3735.1380</td>\n",
       "      <td>22</td>\n",
       "      <td>1</td>\n",
       "      <td>0</td>\n",
       "      <td>0</td>\n",
       "      <td>1</td>\n",
       "      <td>0</td>\n",
       "      <td>1</td>\n",
       "      <td>0</td>\n",
       "      <td>0</td>\n",
       "      <td>0</td>\n",
       "      <td>1</td>\n",
       "      <td>0</td>\n",
       "      <td>0</td>\n",
       "      <td>1</td>\n",
       "      <td>0</td>\n",
       "      <td>0</td>\n",
       "    </tr>\n",
       "    <tr>\n",
       "      <th>1</th>\n",
       "      <td>5.920</td>\n",
       "      <td>48.2692</td>\n",
       "      <td>443.4228</td>\n",
       "      <td>12</td>\n",
       "      <td>0</td>\n",
       "      <td>1</td>\n",
       "      <td>0</td>\n",
       "      <td>1</td>\n",
       "      <td>0</td>\n",
       "      <td>0</td>\n",
       "      <td>0</td>\n",
       "      <td>1</td>\n",
       "      <td>0</td>\n",
       "      <td>0</td>\n",
       "      <td>1</td>\n",
       "      <td>0</td>\n",
       "      <td>1</td>\n",
       "      <td>0</td>\n",
       "      <td>0</td>\n",
       "    </tr>\n",
       "    <tr>\n",
       "      <th>2</th>\n",
       "      <td>17.500</td>\n",
       "      <td>141.6180</td>\n",
       "      <td>2097.2700</td>\n",
       "      <td>22</td>\n",
       "      <td>1</td>\n",
       "      <td>0</td>\n",
       "      <td>0</td>\n",
       "      <td>1</td>\n",
       "      <td>0</td>\n",
       "      <td>1</td>\n",
       "      <td>0</td>\n",
       "      <td>0</td>\n",
       "      <td>0</td>\n",
       "      <td>1</td>\n",
       "      <td>0</td>\n",
       "      <td>0</td>\n",
       "      <td>1</td>\n",
       "      <td>0</td>\n",
       "      <td>0</td>\n",
       "    </tr>\n",
       "    <tr>\n",
       "      <th>3</th>\n",
       "      <td>19.200</td>\n",
       "      <td>182.0950</td>\n",
       "      <td>732.3800</td>\n",
       "      <td>23</td>\n",
       "      <td>0</td>\n",
       "      <td>1</td>\n",
       "      <td>0</td>\n",
       "      <td>1</td>\n",
       "      <td>0</td>\n",
       "      <td>0</td>\n",
       "      <td>0</td>\n",
       "      <td>1</td>\n",
       "      <td>1</td>\n",
       "      <td>0</td>\n",
       "      <td>0</td>\n",
       "      <td>0</td>\n",
       "      <td>1</td>\n",
       "      <td>0</td>\n",
       "      <td>0</td>\n",
       "    </tr>\n",
       "    <tr>\n",
       "      <th>4</th>\n",
       "      <td>8.930</td>\n",
       "      <td>53.8614</td>\n",
       "      <td>994.7052</td>\n",
       "      <td>34</td>\n",
       "      <td>1</td>\n",
       "      <td>0</td>\n",
       "      <td>1</td>\n",
       "      <td>0</td>\n",
       "      <td>0</td>\n",
       "      <td>0</td>\n",
       "      <td>0</td>\n",
       "      <td>1</td>\n",
       "      <td>0</td>\n",
       "      <td>1</td>\n",
       "      <td>0</td>\n",
       "      <td>0</td>\n",
       "      <td>1</td>\n",
       "      <td>0</td>\n",
       "      <td>0</td>\n",
       "    </tr>\n",
       "    <tr>\n",
       "      <th>...</th>\n",
       "      <td>...</td>\n",
       "      <td>...</td>\n",
       "      <td>...</td>\n",
       "      <td>...</td>\n",
       "      <td>...</td>\n",
       "      <td>...</td>\n",
       "      <td>...</td>\n",
       "      <td>...</td>\n",
       "      <td>...</td>\n",
       "      <td>...</td>\n",
       "      <td>...</td>\n",
       "      <td>...</td>\n",
       "      <td>...</td>\n",
       "      <td>...</td>\n",
       "      <td>...</td>\n",
       "      <td>...</td>\n",
       "      <td>...</td>\n",
       "      <td>...</td>\n",
       "      <td>...</td>\n",
       "    </tr>\n",
       "    <tr>\n",
       "      <th>8518</th>\n",
       "      <td>6.865</td>\n",
       "      <td>214.5218</td>\n",
       "      <td>2778.3834</td>\n",
       "      <td>34</td>\n",
       "      <td>1</td>\n",
       "      <td>0</td>\n",
       "      <td>1</td>\n",
       "      <td>0</td>\n",
       "      <td>0</td>\n",
       "      <td>0</td>\n",
       "      <td>0</td>\n",
       "      <td>1</td>\n",
       "      <td>0</td>\n",
       "      <td>1</td>\n",
       "      <td>0</td>\n",
       "      <td>0</td>\n",
       "      <td>1</td>\n",
       "      <td>0</td>\n",
       "      <td>0</td>\n",
       "    </tr>\n",
       "    <tr>\n",
       "      <th>8519</th>\n",
       "      <td>8.380</td>\n",
       "      <td>108.1570</td>\n",
       "      <td>549.2850</td>\n",
       "      <td>19</td>\n",
       "      <td>0</td>\n",
       "      <td>1</td>\n",
       "      <td>0</td>\n",
       "      <td>1</td>\n",
       "      <td>0</td>\n",
       "      <td>0</td>\n",
       "      <td>1</td>\n",
       "      <td>0</td>\n",
       "      <td>0</td>\n",
       "      <td>1</td>\n",
       "      <td>0</td>\n",
       "      <td>0</td>\n",
       "      <td>1</td>\n",
       "      <td>0</td>\n",
       "      <td>0</td>\n",
       "    </tr>\n",
       "    <tr>\n",
       "      <th>8520</th>\n",
       "      <td>10.600</td>\n",
       "      <td>85.1224</td>\n",
       "      <td>1193.1136</td>\n",
       "      <td>17</td>\n",
       "      <td>1</td>\n",
       "      <td>0</td>\n",
       "      <td>0</td>\n",
       "      <td>0</td>\n",
       "      <td>1</td>\n",
       "      <td>0</td>\n",
       "      <td>1</td>\n",
       "      <td>0</td>\n",
       "      <td>0</td>\n",
       "      <td>1</td>\n",
       "      <td>0</td>\n",
       "      <td>0</td>\n",
       "      <td>1</td>\n",
       "      <td>0</td>\n",
       "      <td>0</td>\n",
       "    </tr>\n",
       "    <tr>\n",
       "      <th>8521</th>\n",
       "      <td>7.210</td>\n",
       "      <td>103.1332</td>\n",
       "      <td>1845.5976</td>\n",
       "      <td>12</td>\n",
       "      <td>0</td>\n",
       "      <td>1</td>\n",
       "      <td>0</td>\n",
       "      <td>1</td>\n",
       "      <td>0</td>\n",
       "      <td>0</td>\n",
       "      <td>0</td>\n",
       "      <td>1</td>\n",
       "      <td>0</td>\n",
       "      <td>0</td>\n",
       "      <td>1</td>\n",
       "      <td>0</td>\n",
       "      <td>0</td>\n",
       "      <td>0</td>\n",
       "      <td>1</td>\n",
       "    </tr>\n",
       "    <tr>\n",
       "      <th>8522</th>\n",
       "      <td>14.800</td>\n",
       "      <td>75.4670</td>\n",
       "      <td>765.6700</td>\n",
       "      <td>24</td>\n",
       "      <td>1</td>\n",
       "      <td>0</td>\n",
       "      <td>0</td>\n",
       "      <td>0</td>\n",
       "      <td>1</td>\n",
       "      <td>1</td>\n",
       "      <td>0</td>\n",
       "      <td>0</td>\n",
       "      <td>0</td>\n",
       "      <td>1</td>\n",
       "      <td>0</td>\n",
       "      <td>0</td>\n",
       "      <td>1</td>\n",
       "      <td>0</td>\n",
       "      <td>0</td>\n",
       "    </tr>\n",
       "  </tbody>\n",
       "</table>\n",
       "<p>8379 rows × 19 columns</p>\n",
       "</div>"
      ],
      "text/plain": [
       "      Item_Weight  Item_MRP  Item_Outlet_Sales  Age  Item_Fat_Content_Low Fat  \\\n",
       "0           9.300  249.8092          3735.1380   22                         1   \n",
       "1           5.920   48.2692           443.4228   12                         0   \n",
       "2          17.500  141.6180          2097.2700   22                         1   \n",
       "3          19.200  182.0950           732.3800   23                         0   \n",
       "4           8.930   53.8614           994.7052   34                         1   \n",
       "...           ...       ...                ...  ...                       ...   \n",
       "8518        6.865  214.5218          2778.3834   34                         1   \n",
       "8519        8.380  108.1570           549.2850   19                         0   \n",
       "8520       10.600   85.1224          1193.1136   17                         1   \n",
       "8521        7.210  103.1332          1845.5976   12                         0   \n",
       "8522       14.800   75.4670           765.6700   24                         1   \n",
       "\n",
       "      Item_Fat_Content_Regular  Outlet_Size_High  Outlet_Size_Medium  \\\n",
       "0                            0                 0                   1   \n",
       "1                            1                 0                   1   \n",
       "2                            0                 0                   1   \n",
       "3                            1                 0                   1   \n",
       "4                            0                 1                   0   \n",
       "...                        ...               ...                 ...   \n",
       "8518                         0                 1                   0   \n",
       "8519                         1                 0                   1   \n",
       "8520                         0                 0                   0   \n",
       "8521                         1                 0                   1   \n",
       "8522                         0                 0                   0   \n",
       "\n",
       "      Outlet_Size_Small  Outlet_Location_Type_Tier 1  \\\n",
       "0                     0                            1   \n",
       "1                     0                            0   \n",
       "2                     0                            1   \n",
       "3                     0                            0   \n",
       "4                     0                            0   \n",
       "...                 ...                          ...   \n",
       "8518                  0                            0   \n",
       "8519                  0                            0   \n",
       "8520                  1                            0   \n",
       "8521                  0                            0   \n",
       "8522                  1                            1   \n",
       "\n",
       "      Outlet_Location_Type_Tier 2  Outlet_Location_Type_Tier 3  \\\n",
       "0                               0                            0   \n",
       "1                               0                            1   \n",
       "2                               0                            0   \n",
       "3                               0                            1   \n",
       "4                               0                            1   \n",
       "...                           ...                          ...   \n",
       "8518                            0                            1   \n",
       "8519                            1                            0   \n",
       "8520                            1                            0   \n",
       "8521                            0                            1   \n",
       "8522                            0                            0   \n",
       "\n",
       "      Outlet_Type_Grocery Store  Outlet_Type_Supermarket Type1  \\\n",
       "0                             0                              1   \n",
       "1                             0                              0   \n",
       "2                             0                              1   \n",
       "3                             1                              0   \n",
       "4                             0                              1   \n",
       "...                         ...                            ...   \n",
       "8518                          0                              1   \n",
       "8519                          0                              1   \n",
       "8520                          0                              1   \n",
       "8521                          0                              0   \n",
       "8522                          0                              1   \n",
       "\n",
       "      Outlet_Type_Supermarket Type2  Outlet_Type_Supermarket Type3  \\\n",
       "0                                 0                              0   \n",
       "1                                 1                              0   \n",
       "2                                 0                              0   \n",
       "3                                 0                              0   \n",
       "4                                 0                              0   \n",
       "...                             ...                            ...   \n",
       "8518                              0                              0   \n",
       "8519                              0                              0   \n",
       "8520                              0                              0   \n",
       "8521                              1                              0   \n",
       "8522                              0                              0   \n",
       "\n",
       "      Item_Visibility_bins_Low Viz  Item_Visibility_bins_Viz  \\\n",
       "0                                1                         0   \n",
       "1                                1                         0   \n",
       "2                                1                         0   \n",
       "3                                1                         0   \n",
       "4                                1                         0   \n",
       "...                            ...                       ...   \n",
       "8518                             1                         0   \n",
       "8519                             1                         0   \n",
       "8520                             1                         0   \n",
       "8521                             0                         0   \n",
       "8522                             1                         0   \n",
       "\n",
       "      Item_Visibility_bins_High Viz  \n",
       "0                                 0  \n",
       "1                                 0  \n",
       "2                                 0  \n",
       "3                                 0  \n",
       "4                                 0  \n",
       "...                             ...  \n",
       "8518                              0  \n",
       "8519                              0  \n",
       "8520                              0  \n",
       "8521                              1  \n",
       "8522                              0  \n",
       "\n",
       "[8379 rows x 19 columns]"
      ]
     },
     "execution_count": 76,
     "metadata": {},
     "output_type": "execute_result"
    }
   ],
   "source": [
    "final_train"
   ]
  },
  {
   "cell_type": "code",
   "execution_count": 70,
   "metadata": {},
   "outputs": [],
   "source": [
    "dc = dict()\n",
    "for i in list(final_train.columns):\n",
    "    dc[i] = i.replace(' ','_')"
   ]
  },
  {
   "cell_type": "code",
   "execution_count": 71,
   "metadata": {},
   "outputs": [
    {
     "data": {
      "text/plain": [
       "{'Item_Weight': 'Item_Weight',\n",
       " 'Item_MRP': 'Item_MRP',\n",
       " 'Item_Outlet_Sales': 'Item_Outlet_Sales',\n",
       " 'Age': 'Age',\n",
       " 'Item_Fat_Content_Low Fat': 'Item_Fat_Content_Low_Fat',\n",
       " 'Item_Fat_Content_Regular': 'Item_Fat_Content_Regular',\n",
       " 'Outlet_Size_High': 'Outlet_Size_High',\n",
       " 'Outlet_Size_Medium': 'Outlet_Size_Medium',\n",
       " 'Outlet_Size_Small': 'Outlet_Size_Small',\n",
       " 'Outlet_Location_Type_Tier 1': 'Outlet_Location_Type_Tier_1',\n",
       " 'Outlet_Location_Type_Tier 2': 'Outlet_Location_Type_Tier_2',\n",
       " 'Outlet_Location_Type_Tier 3': 'Outlet_Location_Type_Tier_3',\n",
       " 'Outlet_Type_Grocery Store': 'Outlet_Type_Grocery_Store',\n",
       " 'Outlet_Type_Supermarket Type1': 'Outlet_Type_Supermarket_Type1',\n",
       " 'Outlet_Type_Supermarket Type2': 'Outlet_Type_Supermarket_Type2',\n",
       " 'Outlet_Type_Supermarket Type3': 'Outlet_Type_Supermarket_Type3',\n",
       " 'Item_Visibility_bins_Low Viz': 'Item_Visibility_bins_Low_Viz',\n",
       " 'Item_Visibility_bins_Viz': 'Item_Visibility_bins_Viz',\n",
       " 'Item_Visibility_bins_High Viz': 'Item_Visibility_bins_High_Viz'}"
      ]
     },
     "execution_count": 71,
     "metadata": {},
     "output_type": "execute_result"
    }
   ],
   "source": [
    "dc"
   ]
  },
  {
   "cell_type": "code",
   "execution_count": 72,
   "metadata": {},
   "outputs": [],
   "source": [
    "train_new = final_train.rename(dc, axis=1)"
   ]
  },
  {
   "cell_type": "code",
   "execution_count": 77,
   "metadata": {},
   "outputs": [
    {
     "name": "stdout",
     "output_type": "stream",
     "text": [
      "<class 'pandas.core.frame.DataFrame'>\n",
      "Int64Index: 8379 entries, 0 to 8522\n",
      "Data columns (total 19 columns):\n",
      " #   Column                         Non-Null Count  Dtype  \n",
      "---  ------                         --------------  -----  \n",
      " 0   Item_Weight                    8379 non-null   float64\n",
      " 1   Item_MRP                       8379 non-null   float64\n",
      " 2   Item_Outlet_Sales              8379 non-null   float64\n",
      " 3   Age                            8379 non-null   int64  \n",
      " 4   Item_Fat_Content_Low_Fat       8379 non-null   uint8  \n",
      " 5   Item_Fat_Content_Regular       8379 non-null   uint8  \n",
      " 6   Outlet_Size_High               8379 non-null   uint8  \n",
      " 7   Outlet_Size_Medium             8379 non-null   uint8  \n",
      " 8   Outlet_Size_Small              8379 non-null   uint8  \n",
      " 9   Outlet_Location_Type_Tier_1    8379 non-null   uint8  \n",
      " 10  Outlet_Location_Type_Tier_2    8379 non-null   uint8  \n",
      " 11  Outlet_Location_Type_Tier_3    8379 non-null   uint8  \n",
      " 12  Outlet_Type_Grocery_Store      8379 non-null   uint8  \n",
      " 13  Outlet_Type_Supermarket_Type1  8379 non-null   uint8  \n",
      " 14  Outlet_Type_Supermarket_Type2  8379 non-null   uint8  \n",
      " 15  Outlet_Type_Supermarket_Type3  8379 non-null   uint8  \n",
      " 16  Item_Visibility_bins_Low_Viz   8379 non-null   uint8  \n",
      " 17  Item_Visibility_bins_Viz       8379 non-null   uint8  \n",
      " 18  Item_Visibility_bins_High_Viz  8379 non-null   uint8  \n",
      "dtypes: float64(3), int64(1), uint8(15)\n",
      "memory usage: 450.0 KB\n"
     ]
    }
   ],
   "source": [
    "train_new.info()"
   ]
  },
  {
   "cell_type": "code",
   "execution_count": 78,
   "metadata": {
    "scrolled": true
   },
   "outputs": [
    {
     "data": {
      "text/plain": [
       "'Item_Outlet_Sales ~ Item_Weight + Item_MRP + Age + Item_Fat_Content_Low_Fat + Item_Fat_Content_Regular + Outlet_Size_High + Outlet_Size_Medium + Outlet_Size_Small + Outlet_Location_Type_Tier_1 + Outlet_Location_Type_Tier_2 + Outlet_Location_Type_Tier_3 + Outlet_Type_Grocery_Store + Outlet_Type_Supermarket_Type1 + Outlet_Type_Supermarket_Type2 + Outlet_Type_Supermarket_Type3 + Item_Visibility_bins_Low_Viz + Item_Visibility_bins_Viz + Item_Visibility_bins_High_Viz'"
      ]
     },
     "execution_count": 78,
     "metadata": {},
     "output_type": "execute_result"
    }
   ],
   "source": [
    "\"Item_Outlet_Sales ~ \" + \" + \".join(list(train_new.drop('Item_Outlet_Sales', axis=1).columns))"
   ]
  },
  {
   "cell_type": "code",
   "execution_count": 79,
   "metadata": {},
   "outputs": [],
   "source": [
    "formula = 'Item_Outlet_Sales ~ ' + ' + '.join(list(train_new.drop('Item_Outlet_Sales', axis=1).columns))"
   ]
  },
  {
   "cell_type": "code",
   "execution_count": 80,
   "metadata": {},
   "outputs": [
    {
     "name": "stdout",
     "output_type": "stream",
     "text": [
      "Item_Outlet_Sales ~ Item_Weight + Item_MRP + Age + Item_Fat_Content_Low_Fat + Item_Fat_Content_Regular + Outlet_Size_High + Outlet_Size_Medium + Outlet_Size_Small + Outlet_Location_Type_Tier_1 + Outlet_Location_Type_Tier_2 + Outlet_Location_Type_Tier_3 + Outlet_Type_Grocery_Store + Outlet_Type_Supermarket_Type1 + Outlet_Type_Supermarket_Type2 + Outlet_Type_Supermarket_Type3 + Item_Visibility_bins_Low_Viz + Item_Visibility_bins_Viz + Item_Visibility_bins_High_Viz\n"
     ]
    }
   ],
   "source": [
    "print(formula)"
   ]
  },
  {
   "cell_type": "code",
   "execution_count": 81,
   "metadata": {},
   "outputs": [],
   "source": [
    "import statsmodels.formula.api as smf\n",
    "\n",
    "lm = smf.ols(formula=formula, data=train_new).fit()"
   ]
  },
  {
   "cell_type": "code",
   "execution_count": 82,
   "metadata": {
    "scrolled": false
   },
   "outputs": [
    {
     "data": {
      "text/html": [
       "<table class=\"simpletable\">\n",
       "<caption>OLS Regression Results</caption>\n",
       "<tr>\n",
       "  <th>Dep. Variable:</th>    <td>Item_Outlet_Sales</td> <th>  R-squared:         </th> <td>   0.558</td> \n",
       "</tr>\n",
       "<tr>\n",
       "  <th>Model:</th>                   <td>OLS</td>        <th>  Adj. R-squared:    </th> <td>   0.558</td> \n",
       "</tr>\n",
       "<tr>\n",
       "  <th>Method:</th>             <td>Least Squares</td>   <th>  F-statistic:       </th> <td>   813.9</td> \n",
       "</tr>\n",
       "<tr>\n",
       "  <th>Date:</th>             <td>Sun, 16 Jan 2022</td>  <th>  Prob (F-statistic):</th>  <td>  0.00</td>  \n",
       "</tr>\n",
       "<tr>\n",
       "  <th>Time:</th>                 <td>12:46:27</td>      <th>  Log-Likelihood:    </th> <td> -70808.</td> \n",
       "</tr>\n",
       "<tr>\n",
       "  <th>No. Observations:</th>      <td>  8379</td>       <th>  AIC:               </th> <td>1.416e+05</td>\n",
       "</tr>\n",
       "<tr>\n",
       "  <th>Df Residuals:</th>          <td>  8365</td>       <th>  BIC:               </th> <td>1.417e+05</td>\n",
       "</tr>\n",
       "<tr>\n",
       "  <th>Df Model:</th>              <td>    13</td>       <th>                     </th>     <td> </td>    \n",
       "</tr>\n",
       "<tr>\n",
       "  <th>Covariance Type:</th>      <td>nonrobust</td>     <th>                     </th>     <td> </td>    \n",
       "</tr>\n",
       "</table>\n",
       "<table class=\"simpletable\">\n",
       "<tr>\n",
       "                <td></td>                   <th>coef</th>     <th>std err</th>      <th>t</th>      <th>P>|t|</th>  <th>[0.025</th>    <th>0.975]</th>  \n",
       "</tr>\n",
       "<tr>\n",
       "  <th>Intercept</th>                     <td>  462.5095</td> <td>  131.138</td> <td>    3.527</td> <td> 0.000</td> <td>  205.446</td> <td>  719.573</td>\n",
       "</tr>\n",
       "<tr>\n",
       "  <th>Item_Weight</th>                   <td>   -0.6196</td> <td>    2.916</td> <td>   -0.212</td> <td> 0.832</td> <td>   -6.336</td> <td>    5.097</td>\n",
       "</tr>\n",
       "<tr>\n",
       "  <th>Item_MRP</th>                      <td>   15.7921</td> <td>    0.199</td> <td>   79.370</td> <td> 0.000</td> <td>   15.402</td> <td>   16.182</td>\n",
       "</tr>\n",
       "<tr>\n",
       "  <th>Age</th>                           <td>  -40.0428</td> <td>   10.260</td> <td>   -3.903</td> <td> 0.000</td> <td>  -60.154</td> <td>  -19.931</td>\n",
       "</tr>\n",
       "<tr>\n",
       "  <th>Item_Fat_Content_Low_Fat</th>      <td>  206.7770</td> <td>   66.820</td> <td>    3.095</td> <td> 0.002</td> <td>   75.793</td> <td>  337.761</td>\n",
       "</tr>\n",
       "<tr>\n",
       "  <th>Item_Fat_Content_Regular</th>      <td>  255.7325</td> <td>   66.862</td> <td>    3.825</td> <td> 0.000</td> <td>  124.666</td> <td>  386.799</td>\n",
       "</tr>\n",
       "<tr>\n",
       "  <th>Outlet_Size_High</th>              <td>  765.3142</td> <td>  210.644</td> <td>    3.633</td> <td> 0.000</td> <td>  352.400</td> <td> 1178.229</td>\n",
       "</tr>\n",
       "<tr>\n",
       "  <th>Outlet_Size_Medium</th>            <td> -189.1930</td> <td>   48.141</td> <td>   -3.930</td> <td> 0.000</td> <td> -283.562</td> <td>  -94.824</td>\n",
       "</tr>\n",
       "<tr>\n",
       "  <th>Outlet_Size_Small</th>             <td> -113.6117</td> <td>   46.827</td> <td>   -2.426</td> <td> 0.015</td> <td> -205.405</td> <td>  -21.819</td>\n",
       "</tr>\n",
       "<tr>\n",
       "  <th>Outlet_Location_Type_Tier_1</th>   <td>  395.3001</td> <td>  110.306</td> <td>    3.584</td> <td> 0.000</td> <td>  179.072</td> <td>  611.528</td>\n",
       "</tr>\n",
       "<tr>\n",
       "  <th>Outlet_Location_Type_Tier_2</th>   <td>  165.7046</td> <td>   57.721</td> <td>    2.871</td> <td> 0.004</td> <td>   52.557</td> <td>  278.852</td>\n",
       "</tr>\n",
       "<tr>\n",
       "  <th>Outlet_Location_Type_Tier_3</th>   <td>  -98.4952</td> <td>   52.324</td> <td>   -1.882</td> <td> 0.060</td> <td> -201.063</td> <td>    4.073</td>\n",
       "</tr>\n",
       "<tr>\n",
       "  <th>Outlet_Type_Grocery_Store</th>     <td>-1520.5529</td> <td>   67.564</td> <td>  -22.505</td> <td> 0.000</td> <td>-1652.995</td> <td>-1388.110</td>\n",
       "</tr>\n",
       "<tr>\n",
       "  <th>Outlet_Type_Supermarket_Type1</th> <td>  -79.2366</td> <td>   85.112</td> <td>   -0.931</td> <td> 0.352</td> <td> -246.078</td> <td>   87.605</td>\n",
       "</tr>\n",
       "<tr>\n",
       "  <th>Outlet_Type_Supermarket_Type2</th> <td> -313.2750</td> <td>   70.594</td> <td>   -4.438</td> <td> 0.000</td> <td> -451.657</td> <td> -174.893</td>\n",
       "</tr>\n",
       "<tr>\n",
       "  <th>Outlet_Type_Supermarket_Type3</th> <td> 2375.5739</td> <td>  197.569</td> <td>   12.024</td> <td> 0.000</td> <td> 1988.290</td> <td> 2762.857</td>\n",
       "</tr>\n",
       "<tr>\n",
       "  <th>Item_Visibility_bins_Low_Viz</th>  <td>  164.4494</td> <td>   47.146</td> <td>    3.488</td> <td> 0.000</td> <td>   72.032</td> <td>  256.867</td>\n",
       "</tr>\n",
       "<tr>\n",
       "  <th>Item_Visibility_bins_Viz</th>      <td>  161.8172</td> <td>   48.073</td> <td>    3.366</td> <td> 0.001</td> <td>   67.583</td> <td>  256.052</td>\n",
       "</tr>\n",
       "<tr>\n",
       "  <th>Item_Visibility_bins_High_Viz</th> <td>  136.2428</td> <td>   51.885</td> <td>    2.626</td> <td> 0.009</td> <td>   34.536</td> <td>  237.949</td>\n",
       "</tr>\n",
       "</table>\n",
       "<table class=\"simpletable\">\n",
       "<tr>\n",
       "  <th>Omnibus:</th>       <td>909.878</td> <th>  Durbin-Watson:     </th> <td>   2.005</td>\n",
       "</tr>\n",
       "<tr>\n",
       "  <th>Prob(Omnibus):</th> <td> 0.000</td>  <th>  Jarque-Bera (JB):  </th> <td>2167.653</td>\n",
       "</tr>\n",
       "<tr>\n",
       "  <th>Skew:</th>          <td> 0.646</td>  <th>  Prob(JB):          </th> <td>    0.00</td>\n",
       "</tr>\n",
       "<tr>\n",
       "  <th>Kurtosis:</th>      <td> 5.131</td>  <th>  Cond. No.          </th> <td>2.28e+18</td>\n",
       "</tr>\n",
       "</table><br/><br/>Notes:<br/>[1] Standard Errors assume that the covariance matrix of the errors is correctly specified.<br/>[2] The smallest eigenvalue is 3.91e-29. This might indicate that there are<br/>strong multicollinearity problems or that the design matrix is singular."
      ],
      "text/plain": [
       "<class 'statsmodels.iolib.summary.Summary'>\n",
       "\"\"\"\n",
       "                            OLS Regression Results                            \n",
       "==============================================================================\n",
       "Dep. Variable:      Item_Outlet_Sales   R-squared:                       0.558\n",
       "Model:                            OLS   Adj. R-squared:                  0.558\n",
       "Method:                 Least Squares   F-statistic:                     813.9\n",
       "Date:                Sun, 16 Jan 2022   Prob (F-statistic):               0.00\n",
       "Time:                        12:46:27   Log-Likelihood:                -70808.\n",
       "No. Observations:                8379   AIC:                         1.416e+05\n",
       "Df Residuals:                    8365   BIC:                         1.417e+05\n",
       "Df Model:                          13                                         \n",
       "Covariance Type:            nonrobust                                         \n",
       "=================================================================================================\n",
       "                                    coef    std err          t      P>|t|      [0.025      0.975]\n",
       "-------------------------------------------------------------------------------------------------\n",
       "Intercept                       462.5095    131.138      3.527      0.000     205.446     719.573\n",
       "Item_Weight                      -0.6196      2.916     -0.212      0.832      -6.336       5.097\n",
       "Item_MRP                         15.7921      0.199     79.370      0.000      15.402      16.182\n",
       "Age                             -40.0428     10.260     -3.903      0.000     -60.154     -19.931\n",
       "Item_Fat_Content_Low_Fat        206.7770     66.820      3.095      0.002      75.793     337.761\n",
       "Item_Fat_Content_Regular        255.7325     66.862      3.825      0.000     124.666     386.799\n",
       "Outlet_Size_High                765.3142    210.644      3.633      0.000     352.400    1178.229\n",
       "Outlet_Size_Medium             -189.1930     48.141     -3.930      0.000    -283.562     -94.824\n",
       "Outlet_Size_Small              -113.6117     46.827     -2.426      0.015    -205.405     -21.819\n",
       "Outlet_Location_Type_Tier_1     395.3001    110.306      3.584      0.000     179.072     611.528\n",
       "Outlet_Location_Type_Tier_2     165.7046     57.721      2.871      0.004      52.557     278.852\n",
       "Outlet_Location_Type_Tier_3     -98.4952     52.324     -1.882      0.060    -201.063       4.073\n",
       "Outlet_Type_Grocery_Store     -1520.5529     67.564    -22.505      0.000   -1652.995   -1388.110\n",
       "Outlet_Type_Supermarket_Type1   -79.2366     85.112     -0.931      0.352    -246.078      87.605\n",
       "Outlet_Type_Supermarket_Type2  -313.2750     70.594     -4.438      0.000    -451.657    -174.893\n",
       "Outlet_Type_Supermarket_Type3  2375.5739    197.569     12.024      0.000    1988.290    2762.857\n",
       "Item_Visibility_bins_Low_Viz    164.4494     47.146      3.488      0.000      72.032     256.867\n",
       "Item_Visibility_bins_Viz        161.8172     48.073      3.366      0.001      67.583     256.052\n",
       "Item_Visibility_bins_High_Viz   136.2428     51.885      2.626      0.009      34.536     237.949\n",
       "==============================================================================\n",
       "Omnibus:                      909.878   Durbin-Watson:                   2.005\n",
       "Prob(Omnibus):                  0.000   Jarque-Bera (JB):             2167.653\n",
       "Skew:                           0.646   Prob(JB):                         0.00\n",
       "Kurtosis:                       5.131   Cond. No.                     2.28e+18\n",
       "==============================================================================\n",
       "\n",
       "Notes:\n",
       "[1] Standard Errors assume that the covariance matrix of the errors is correctly specified.\n",
       "[2] The smallest eigenvalue is 3.91e-29. This might indicate that there are\n",
       "strong multicollinearity problems or that the design matrix is singular.\n",
       "\"\"\""
      ]
     },
     "execution_count": 82,
     "metadata": {},
     "output_type": "execute_result"
    }
   ],
   "source": [
    "lm.summary()"
   ]
  },
  {
   "cell_type": "code",
   "execution_count": null,
   "metadata": {},
   "outputs": [],
   "source": []
  },
  {
   "cell_type": "code",
   "execution_count": null,
   "metadata": {},
   "outputs": [],
   "source": []
  },
  {
   "cell_type": "code",
   "execution_count": null,
   "metadata": {},
   "outputs": [],
   "source": []
  },
  {
   "cell_type": "code",
   "execution_count": 83,
   "metadata": {},
   "outputs": [],
   "source": [
    "from sklearn.model_selection import train_test_split"
   ]
  },
  {
   "cell_type": "code",
   "execution_count": 84,
   "metadata": {},
   "outputs": [],
   "source": [
    "trainX, testX, trainY, testY = train_test_split(X,y, test_size=0.3)"
   ]
  },
  {
   "cell_type": "code",
   "execution_count": 85,
   "metadata": {},
   "outputs": [
    {
     "data": {
      "text/plain": [
       "((5865, 18), (2514, 18), (5865,), (2514,))"
      ]
     },
     "execution_count": 85,
     "metadata": {},
     "output_type": "execute_result"
    }
   ],
   "source": [
    "trainX.shape, testX.shape, trainY.shape, testY.shape"
   ]
  },
  {
   "cell_type": "code",
   "execution_count": null,
   "metadata": {},
   "outputs": [],
   "source": []
  },
  {
   "cell_type": "code",
   "execution_count": null,
   "metadata": {},
   "outputs": [],
   "source": []
  },
  {
   "cell_type": "code",
   "execution_count": 86,
   "metadata": {},
   "outputs": [],
   "source": [
    "lm = LinearRegression()"
   ]
  },
  {
   "cell_type": "code",
   "execution_count": 87,
   "metadata": {},
   "outputs": [
    {
     "data": {
      "text/plain": [
       "4085    2120.5730\n",
       "6919    3193.8426\n",
       "1597    1893.5352\n",
       "6712    2600.6148\n",
       "4301    3295.7100\n",
       "          ...    \n",
       "6910    2450.1440\n",
       "7192    1267.0174\n",
       "1571    2804.3496\n",
       "2740    2797.6916\n",
       "6132    5438.9202\n",
       "Name: Item_Outlet_Sales, Length: 5865, dtype: float64"
      ]
     },
     "execution_count": 87,
     "metadata": {},
     "output_type": "execute_result"
    }
   ],
   "source": [
    "trainY"
   ]
  },
  {
   "cell_type": "code",
   "execution_count": 88,
   "metadata": {},
   "outputs": [
    {
     "data": {
      "text/plain": [
       "LinearRegression()"
      ]
     },
     "execution_count": 88,
     "metadata": {},
     "output_type": "execute_result"
    }
   ],
   "source": [
    "lm.fit(trainX, trainY)"
   ]
  },
  {
   "cell_type": "code",
   "execution_count": 89,
   "metadata": {},
   "outputs": [
    {
     "data": {
      "text/plain": [
       "1258.470569049593"
      ]
     },
     "execution_count": 89,
     "metadata": {},
     "output_type": "execute_result"
    }
   ],
   "source": [
    "lm.intercept_"
   ]
  },
  {
   "cell_type": "code",
   "execution_count": 90,
   "metadata": {},
   "outputs": [
    {
     "data": {
      "text/plain": [
       "array([ 3.67385797e-01,  1.57089198e+01, -4.05042692e+01, -2.61898213e+01,\n",
       "        2.61898213e+01,  5.80628160e+02, -3.42592739e+02, -2.38035421e+02,\n",
       "        2.32343139e+02, -3.57881279e+00, -2.28764326e+02, -1.62088810e+03,\n",
       "       -1.91094576e+02, -4.48471306e+02,  2.26045398e+03,  9.86145890e+00,\n",
       "        1.06944800e+01, -2.05559389e+01])"
      ]
     },
     "execution_count": 90,
     "metadata": {},
     "output_type": "execute_result"
    }
   ],
   "source": [
    "lm.coef_"
   ]
  },
  {
   "cell_type": "code",
   "execution_count": 91,
   "metadata": {},
   "outputs": [
    {
     "data": {
      "text/plain": [
       "Index(['Item_Weight', 'Item_MRP', 'Age', 'Item_Fat_Content_Low Fat',\n",
       "       'Item_Fat_Content_Regular', 'Outlet_Size_High', 'Outlet_Size_Medium',\n",
       "       'Outlet_Size_Small', 'Outlet_Location_Type_Tier 1',\n",
       "       'Outlet_Location_Type_Tier 2', 'Outlet_Location_Type_Tier 3',\n",
       "       'Outlet_Type_Grocery Store', 'Outlet_Type_Supermarket Type1',\n",
       "       'Outlet_Type_Supermarket Type2', 'Outlet_Type_Supermarket Type3',\n",
       "       'Item_Visibility_bins_Low Viz', 'Item_Visibility_bins_Viz',\n",
       "       'Item_Visibility_bins_High Viz'],\n",
       "      dtype='object')"
      ]
     },
     "execution_count": 91,
     "metadata": {},
     "output_type": "execute_result"
    }
   ],
   "source": [
    "trainX.columns"
   ]
  },
  {
   "cell_type": "code",
   "execution_count": 92,
   "metadata": {},
   "outputs": [
    {
     "data": {
      "text/plain": [
       "0.5604202895417438"
      ]
     },
     "execution_count": 92,
     "metadata": {},
     "output_type": "execute_result"
    }
   ],
   "source": [
    "lm.score(trainX, trainY)"
   ]
  },
  {
   "cell_type": "code",
   "execution_count": 93,
   "metadata": {},
   "outputs": [
    {
     "data": {
      "text/plain": [
       "0.5531544573238523"
      ]
     },
     "execution_count": 93,
     "metadata": {},
     "output_type": "execute_result"
    }
   ],
   "source": [
    "lm.score(testX, testY)"
   ]
  },
  {
   "cell_type": "code",
   "execution_count": 94,
   "metadata": {},
   "outputs": [
    {
     "data": {
      "text/plain": [
       "3778    2050.6640\n",
       "7507    2451.4756\n",
       "1237    1379.5376\n",
       "6882     223.7088\n",
       "4785    5475.5392\n",
       "          ...    \n",
       "7271    1298.3100\n",
       "6131    3277.0676\n",
       "2951    2423.5120\n",
       "5768    2708.4744\n",
       "3660     559.2720\n",
       "Name: Item_Outlet_Sales, Length: 2514, dtype: float64"
      ]
     },
     "execution_count": 94,
     "metadata": {},
     "output_type": "execute_result"
    }
   ],
   "source": [
    "testY"
   ]
  },
  {
   "cell_type": "code",
   "execution_count": 95,
   "metadata": {},
   "outputs": [],
   "source": [
    "predicted_y = lm.predict(testX)"
   ]
  },
  {
   "cell_type": "code",
   "execution_count": 96,
   "metadata": {
    "scrolled": true
   },
   "outputs": [
    {
     "data": {
      "text/plain": [
       "array([2740.63370992, 2890.62096804, 2777.14666828, ..., 2700.31714244,\n",
       "       2468.35932149, 2093.82192243])"
      ]
     },
     "execution_count": 96,
     "metadata": {},
     "output_type": "execute_result"
    }
   ],
   "source": [
    "predicted_y"
   ]
  },
  {
   "cell_type": "code",
   "execution_count": null,
   "metadata": {},
   "outputs": [],
   "source": []
  },
  {
   "cell_type": "markdown",
   "metadata": {},
   "source": [
    "# Dealing with Overfitting if that is the case !!"
   ]
  },
  {
   "cell_type": "code",
   "execution_count": 78,
   "metadata": {},
   "outputs": [],
   "source": [
    "from sklearn.linear_model import Ridge, Lasso"
   ]
  },
  {
   "cell_type": "code",
   "execution_count": 79,
   "metadata": {},
   "outputs": [],
   "source": [
    "ridge = Ridge()"
   ]
  },
  {
   "cell_type": "code",
   "execution_count": 80,
   "metadata": {},
   "outputs": [],
   "source": [
    "from sklearn.model_selection import GridSearchCV"
   ]
  },
  {
   "cell_type": "code",
   "execution_count": 81,
   "metadata": {},
   "outputs": [],
   "source": [
    "parameters = {'alpha': [1, 0.1, 0.01, 0.001, 0.0001]} "
   ]
  },
  {
   "cell_type": "code",
   "execution_count": 90,
   "metadata": {},
   "outputs": [],
   "source": [
    "gscv = GridSearchCV(ridge, param_grid=parameters, cv=5, verbose=1)"
   ]
  },
  {
   "cell_type": "code",
   "execution_count": 91,
   "metadata": {
    "scrolled": true
   },
   "outputs": [
    {
     "name": "stdout",
     "output_type": "stream",
     "text": [
      "Fitting 5 folds for each of 5 candidates, totalling 25 fits\n"
     ]
    },
    {
     "name": "stderr",
     "output_type": "stream",
     "text": [
      "[Parallel(n_jobs=1)]: Using backend SequentialBackend with 1 concurrent workers.\n",
      "[Parallel(n_jobs=1)]: Done  25 out of  25 | elapsed:    0.4s finished\n"
     ]
    },
    {
     "data": {
      "text/plain": [
       "GridSearchCV(cv=5, estimator=Ridge(),\n",
       "             param_grid={'alpha': [1, 0.1, 0.01, 0.001, 0.0001]}, verbose=1)"
      ]
     },
     "execution_count": 91,
     "metadata": {},
     "output_type": "execute_result"
    }
   ],
   "source": [
    "gscv.fit(X,y)"
   ]
  },
  {
   "cell_type": "code",
   "execution_count": 92,
   "metadata": {},
   "outputs": [
    {
     "data": {
      "text/plain": [
       "0.1"
      ]
     },
     "execution_count": 92,
     "metadata": {},
     "output_type": "execute_result"
    }
   ],
   "source": [
    "gscv.best_params_['alpha']"
   ]
  },
  {
   "cell_type": "code",
   "execution_count": 93,
   "metadata": {},
   "outputs": [
    {
     "data": {
      "text/plain": [
       "0.556512415988943"
      ]
     },
     "execution_count": 93,
     "metadata": {},
     "output_type": "execute_result"
    }
   ],
   "source": [
    "gscv.best_score_"
   ]
  },
  {
   "cell_type": "code",
   "execution_count": null,
   "metadata": {},
   "outputs": [],
   "source": [
    "ridge = Ridge(alpha=0.1)"
   ]
  },
  {
   "cell_type": "code",
   "execution_count": null,
   "metadata": {},
   "outputs": [],
   "source": []
  },
  {
   "cell_type": "code",
   "execution_count": null,
   "metadata": {},
   "outputs": [],
   "source": []
  },
  {
   "cell_type": "code",
   "execution_count": null,
   "metadata": {},
   "outputs": [],
   "source": []
  },
  {
   "cell_type": "code",
   "execution_count": null,
   "metadata": {},
   "outputs": [],
   "source": []
  },
  {
   "cell_type": "code",
   "execution_count": null,
   "metadata": {},
   "outputs": [],
   "source": [
    "lasso = Lasso()"
   ]
  },
  {
   "cell_type": "code",
   "execution_count": null,
   "metadata": {},
   "outputs": [],
   "source": [
    "lasso.fit(trainX, trainY)"
   ]
  },
  {
   "cell_type": "code",
   "execution_count": null,
   "metadata": {},
   "outputs": [],
   "source": [
    "lasso.score(trainX, trainY)"
   ]
  },
  {
   "cell_type": "code",
   "execution_count": null,
   "metadata": {},
   "outputs": [],
   "source": [
    "lasso.score(testX, testY)"
   ]
  },
  {
   "cell_type": "code",
   "execution_count": null,
   "metadata": {},
   "outputs": [],
   "source": [
    "parameters = {'alpha': [1, 0.1, 0.01, 0.001, 0.0001]} "
   ]
  },
  {
   "cell_type": "code",
   "execution_count": null,
   "metadata": {},
   "outputs": [],
   "source": [
    "gscv = GridSearchCV(lasso, param_grid=parameters, cv=3)"
   ]
  },
  {
   "cell_type": "code",
   "execution_count": null,
   "metadata": {},
   "outputs": [],
   "source": [
    "gscv.fit(trainX, trainY)"
   ]
  },
  {
   "cell_type": "code",
   "execution_count": null,
   "metadata": {},
   "outputs": [],
   "source": [
    "gscv.best_params_['alpha']"
   ]
  },
  {
   "cell_type": "code",
   "execution_count": null,
   "metadata": {},
   "outputs": [],
   "source": []
  },
  {
   "cell_type": "code",
   "execution_count": null,
   "metadata": {},
   "outputs": [],
   "source": []
  }
 ],
 "metadata": {
  "kernelspec": {
   "display_name": "Python 3",
   "language": "python",
   "name": "python3"
  },
  "language_info": {
   "codemirror_mode": {
    "name": "ipython",
    "version": 3
   },
   "file_extension": ".py",
   "mimetype": "text/x-python",
   "name": "python",
   "nbconvert_exporter": "python",
   "pygments_lexer": "ipython3",
   "version": "3.8.8"
  }
 },
 "nbformat": 4,
 "nbformat_minor": 2
}
